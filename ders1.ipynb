{
 "cells": [
  {
   "cell_type": "code",
   "id": "initial_id",
   "metadata": {
    "collapsed": true,
    "ExecuteTime": {
     "end_time": "2024-07-04T18:22:56.633756Z",
     "start_time": "2024-07-04T18:22:56.628716Z"
    }
   },
   "source": "print(\"hello world\")",
   "outputs": [
    {
     "name": "stdout",
     "output_type": "stream",
     "text": [
      "hello world\n"
     ]
    }
   ],
   "execution_count": 2
  },
  {
   "metadata": {
    "ExecuteTime": {
     "end_time": "2024-07-04T18:25:31.495892Z",
     "start_time": "2024-07-04T18:25:31.491556Z"
    }
   },
   "cell_type": "code",
   "source": "#this is a comment",
   "id": "7a3db2ff2d6c3517",
   "outputs": [],
   "execution_count": 3
  },
  {
   "metadata": {
    "ExecuteTime": {
     "end_time": "2024-07-04T18:29:50.399199Z",
     "start_time": "2024-07-04T18:29:50.395680Z"
    }
   },
   "cell_type": "code",
   "source": "x = 4",
   "id": "94d0a4aa804f4779",
   "outputs": [],
   "execution_count": 4
  },
  {
   "metadata": {
    "ExecuteTime": {
     "end_time": "2024-07-04T18:29:51.921282Z",
     "start_time": "2024-07-04T18:29:51.912041Z"
    }
   },
   "cell_type": "code",
   "source": "x",
   "id": "b6f88f1fdcca5392",
   "outputs": [
    {
     "data": {
      "text/plain": [
       "4"
      ]
     },
     "execution_count": 5,
     "metadata": {},
     "output_type": "execute_result"
    }
   ],
   "execution_count": 5
  },
  {
   "metadata": {
    "ExecuteTime": {
     "end_time": "2024-07-04T18:29:59.649333Z",
     "start_time": "2024-07-04T18:29:59.645010Z"
    }
   },
   "cell_type": "code",
   "source": "x = \"ali\"",
   "id": "c747c8a310eabeac",
   "outputs": [],
   "execution_count": 6
  },
  {
   "metadata": {
    "ExecuteTime": {
     "end_time": "2024-07-04T18:30:00.957163Z",
     "start_time": "2024-07-04T18:30:00.952344Z"
    }
   },
   "cell_type": "code",
   "source": "x",
   "id": "19580af37eebacba",
   "outputs": [
    {
     "data": {
      "text/plain": [
       "'ali'"
      ]
     },
     "execution_count": 7,
     "metadata": {},
     "output_type": "execute_result"
    }
   ],
   "execution_count": 7
  },
  {
   "metadata": {
    "ExecuteTime": {
     "end_time": "2024-07-04T18:31:51.612553Z",
     "start_time": "2024-07-04T18:31:51.606302Z"
    }
   },
   "cell_type": "code",
   "source": [
    "x,y,z=8,9,10\n",
    "print(x,y,z)"
   ],
   "id": "a649ccab2c142822",
   "outputs": [
    {
     "name": "stdout",
     "output_type": "stream",
     "text": [
      "8 9 10\n"
     ]
    }
   ],
   "execution_count": 8
  },
  {
   "metadata": {
    "ExecuteTime": {
     "end_time": "2024-07-04T18:32:47.583331Z",
     "start_time": "2024-07-04T18:32:47.579083Z"
    }
   },
   "cell_type": "code",
   "source": "x=y=z=\"orange\"",
   "id": "e95ec35ce0271a5",
   "outputs": [],
   "execution_count": 10
  },
  {
   "metadata": {
    "ExecuteTime": {
     "end_time": "2024-07-04T18:32:57.050471Z",
     "start_time": "2024-07-04T18:32:57.046548Z"
    }
   },
   "cell_type": "code",
   "source": "print(x,y,z)",
   "id": "48bca4dfc7eb34ce",
   "outputs": [
    {
     "name": "stdout",
     "output_type": "stream",
     "text": [
      "orange orange orange\n"
     ]
    }
   ],
   "execution_count": 11
  },
  {
   "metadata": {
    "ExecuteTime": {
     "end_time": "2024-07-04T18:33:36.394413Z",
     "start_time": "2024-07-04T18:33:36.390766Z"
    }
   },
   "cell_type": "code",
   "source": [
    "fruits = [\"apple\",\"orange\",\"pear\"]\n",
    "x,y,z=fruits\n",
    "print(x,y,z)"
   ],
   "id": "8d52c1244eafa6e0",
   "outputs": [
    {
     "name": "stdout",
     "output_type": "stream",
     "text": [
      "apple orange pear\n"
     ]
    }
   ],
   "execution_count": 12
  },
  {
   "metadata": {
    "ExecuteTime": {
     "end_time": "2024-07-04T18:34:10.565840Z",
     "start_time": "2024-07-04T18:34:10.561391Z"
    }
   },
   "cell_type": "code",
   "source": [
    "x = \"python is perfect\"\n",
    "print(x)"
   ],
   "id": "b6256eab184ba649",
   "outputs": [
    {
     "name": "stdout",
     "output_type": "stream",
     "text": [
      "python is perfect\n"
     ]
    }
   ],
   "execution_count": 13
  },
  {
   "metadata": {
    "ExecuteTime": {
     "end_time": "2024-07-04T18:35:54.908701Z",
     "start_time": "2024-07-04T18:35:54.904138Z"
    }
   },
   "cell_type": "code",
   "source": [
    "x =5\n",
    "y =10\n",
    "print(x,y)"
   ],
   "id": "2610742c50d45641",
   "outputs": [
    {
     "name": "stdout",
     "output_type": "stream",
     "text": [
      "5 10\n"
     ]
    }
   ],
   "execution_count": 14
  },
  {
   "metadata": {
    "ExecuteTime": {
     "end_time": "2024-07-04T18:36:16.542471Z",
     "start_time": "2024-07-04T18:36:16.522247Z"
    }
   },
   "cell_type": "code",
   "source": [
    "x =5\n",
    "y=\"ali\"\n",
    "print(x+y)"
   ],
   "id": "844f3eaf0bcc969c",
   "outputs": [
    {
     "ename": "TypeError",
     "evalue": "unsupported operand type(s) for +: 'int' and 'str'",
     "output_type": "error",
     "traceback": [
      "\u001B[1;31m---------------------------------------------------------------------------\u001B[0m",
      "\u001B[1;31mTypeError\u001B[0m                                 Traceback (most recent call last)",
      "Cell \u001B[1;32mIn[16], line 3\u001B[0m\n\u001B[0;32m      1\u001B[0m x \u001B[38;5;241m=\u001B[39m\u001B[38;5;241m5\u001B[39m\n\u001B[0;32m      2\u001B[0m y\u001B[38;5;241m=\u001B[39m\u001B[38;5;124m\"\u001B[39m\u001B[38;5;124mali\u001B[39m\u001B[38;5;124m\"\u001B[39m\n\u001B[1;32m----> 3\u001B[0m \u001B[38;5;28mprint\u001B[39m(x\u001B[38;5;241m+\u001B[39my)\n",
      "\u001B[1;31mTypeError\u001B[0m: unsupported operand type(s) for +: 'int' and 'str'"
     ]
    }
   ],
   "execution_count": 16
  },
  {
   "metadata": {},
   "cell_type": "markdown",
   "source": "",
   "id": "98b12872ff96d12c"
  },
  {
   "metadata": {},
   "cell_type": "markdown",
   "source": [
    "Yerleşik Veri Türleri\n",
    "Programlamada veri türü önemli bir kavramdır.\n",
    "\n",
    "Değişkenler farklı türlerde veri depolayabilir ve farklı türler farklı işler yapabilir.\n",
    "\n",
    "Python, varsayılan olarak şu veri türlerine sahiptir:"
   ],
   "id": "d9eb3cb04dc99672"
  },
  {
   "metadata": {},
   "cell_type": "markdown",
   "source": [
    "Text Type:\tstr\n",
    "Numeric Types:\tint, float, complex\n",
    "Sequence Types:\tlist, tuple, range\n",
    "Mapping Type:\tdict\n",
    "Set Types:\tset, frozenset\n",
    "Boolean Type:\tbool\n",
    "Binary Types:\tbytes, bytearray, memoryview\n",
    "None Type:\tNoneType"
   ],
   "id": "8ccb53c5fd00e09f"
  },
  {
   "metadata": {
    "ExecuteTime": {
     "end_time": "2024-07-04T18:45:20.154157Z",
     "start_time": "2024-07-04T18:45:20.147388Z"
    }
   },
   "cell_type": "code",
   "source": [
    "y = 12E4\n",
    "y"
   ],
   "id": "3f439cd5b8b35751",
   "outputs": [
    {
     "data": {
      "text/plain": [
       "120000.0"
      ]
     },
     "execution_count": 17,
     "metadata": {},
     "output_type": "execute_result"
    }
   ],
   "execution_count": 17
  },
  {
   "metadata": {
    "ExecuteTime": {
     "end_time": "2024-07-04T18:50:17.105127Z",
     "start_time": "2024-07-04T18:50:17.098713Z"
    }
   },
   "cell_type": "code",
   "source": "type(y)",
   "id": "d6719a61bbfca75b",
   "outputs": [
    {
     "data": {
      "text/plain": [
       "float"
      ]
     },
     "execution_count": 18,
     "metadata": {},
     "output_type": "execute_result"
    }
   ],
   "execution_count": 18
  },
  {
   "metadata": {
    "ExecuteTime": {
     "end_time": "2024-07-04T18:54:34.121500Z",
     "start_time": "2024-07-04T18:54:34.115946Z"
    }
   },
   "cell_type": "code",
   "source": [
    "#Python Numbers int,float,complex\n",
    "\n",
    "x = 5\n",
    "y = 4.2\n",
    "z = 1j\n",
    "typeList = list(map(type, [x,y,z]))\n",
    "print(typeList)\n",
    "\n"
   ],
   "id": "a6b67144fffcf886",
   "outputs": [
    {
     "name": "stdout",
     "output_type": "stream",
     "text": [
      "[<class 'int'>, <class 'float'>, <class 'complex'>]\n"
     ]
    }
   ],
   "execution_count": 23
  },
  {
   "metadata": {
    "ExecuteTime": {
     "end_time": "2024-07-04T18:56:35.300322Z",
     "start_time": "2024-07-04T18:56:35.295381Z"
    }
   },
   "cell_type": "code",
   "source": [
    "x = 5\n",
    "print(type(x))"
   ],
   "id": "b6bc32c8f3b960c5",
   "outputs": [
    {
     "name": "stdout",
     "output_type": "stream",
     "text": [
      "<class 'int'>\n"
     ]
    }
   ],
   "execution_count": 24
  },
  {
   "metadata": {
    "ExecuteTime": {
     "end_time": "2024-07-04T18:56:56.336731Z",
     "start_time": "2024-07-04T18:56:56.331857Z"
    }
   },
   "cell_type": "code",
   "source": [
    "x = -555\n",
    "print(type(x))"
   ],
   "id": "8dd97bf88ad6a475",
   "outputs": [
    {
     "name": "stdout",
     "output_type": "stream",
     "text": [
      "<class 'int'>\n"
     ]
    }
   ],
   "execution_count": 26
  },
  {
   "metadata": {
    "ExecuteTime": {
     "end_time": "2024-07-04T18:57:11.416235Z",
     "start_time": "2024-07-04T18:57:11.410930Z"
    }
   },
   "cell_type": "code",
   "source": [
    "y = 1.85\n",
    "print(type(y))"
   ],
   "id": "df7fbbb3a509e0a3",
   "outputs": [
    {
     "name": "stdout",
     "output_type": "stream",
     "text": [
      "<class 'float'>\n"
     ]
    }
   ],
   "execution_count": 27
  },
  {
   "metadata": {
    "ExecuteTime": {
     "end_time": "2024-07-04T18:57:25.619668Z",
     "start_time": "2024-07-04T18:57:25.614676Z"
    }
   },
   "cell_type": "code",
   "source": [
    "y = 18e3\n",
    "print(y)"
   ],
   "id": "24a1a4ce19ad6b73",
   "outputs": [
    {
     "name": "stdout",
     "output_type": "stream",
     "text": [
      "18000.0\n"
     ]
    }
   ],
   "execution_count": 28
  },
  {
   "metadata": {
    "ExecuteTime": {
     "end_time": "2024-07-04T18:57:38.058410Z",
     "start_time": "2024-07-04T18:57:38.053453Z"
    }
   },
   "cell_type": "code",
   "source": [
    "y = 18E3\n",
    "print(y)"
   ],
   "id": "e3c1c3b354dfe231",
   "outputs": [
    {
     "name": "stdout",
     "output_type": "stream",
     "text": [
      "18000.0\n"
     ]
    }
   ],
   "execution_count": 29
  },
  {
   "metadata": {
    "ExecuteTime": {
     "end_time": "2024-07-04T18:57:46.469802Z",
     "start_time": "2024-07-04T18:57:46.463576Z"
    }
   },
   "cell_type": "code",
   "source": "type(y)",
   "id": "fc779fd0e2f969e2",
   "outputs": [
    {
     "data": {
      "text/plain": [
       "float"
      ]
     },
     "execution_count": 30,
     "metadata": {},
     "output_type": "execute_result"
    }
   ],
   "execution_count": 30
  },
  {
   "metadata": {
    "ExecuteTime": {
     "end_time": "2024-07-04T18:59:36.945851Z",
     "start_time": "2024-07-04T18:59:36.940803Z"
    }
   },
   "cell_type": "code",
   "source": [
    "x = 1j\n",
    "print(type(x))"
   ],
   "id": "c03c6a5b4cbac126",
   "outputs": [
    {
     "name": "stdout",
     "output_type": "stream",
     "text": [
      "<class 'complex'>\n"
     ]
    }
   ],
   "execution_count": 32
  },
  {
   "metadata": {
    "ExecuteTime": {
     "end_time": "2024-07-04T18:59:39.770890Z",
     "start_time": "2024-07-04T18:59:39.764041Z"
    }
   },
   "cell_type": "code",
   "source": "x",
   "id": "dca52b82bad86409",
   "outputs": [
    {
     "data": {
      "text/plain": [
       "1j"
      ]
     },
     "execution_count": 33,
     "metadata": {},
     "output_type": "execute_result"
    }
   ],
   "execution_count": 33
  },
  {
   "metadata": {
    "ExecuteTime": {
     "end_time": "2024-07-04T19:00:02.473596Z",
     "start_time": "2024-07-04T19:00:02.469518Z"
    }
   },
   "cell_type": "code",
   "source": "x = complex(7,11)",
   "id": "29cd49d529cf1804",
   "outputs": [],
   "execution_count": 34
  },
  {
   "metadata": {
    "ExecuteTime": {
     "end_time": "2024-07-04T19:00:03.622228Z",
     "start_time": "2024-07-04T19:00:03.615548Z"
    }
   },
   "cell_type": "code",
   "source": "x",
   "id": "f16813e3e8defd5f",
   "outputs": [
    {
     "data": {
      "text/plain": [
       "(7+11j)"
      ]
     },
     "execution_count": 35,
     "metadata": {},
     "output_type": "execute_result"
    }
   ],
   "execution_count": 35
  },
  {
   "metadata": {
    "ExecuteTime": {
     "end_time": "2024-07-04T19:00:12.373849Z",
     "start_time": "2024-07-04T19:00:12.369073Z"
    }
   },
   "cell_type": "code",
   "source": "print(type(x))",
   "id": "c3b4927092e62eb1",
   "outputs": [
    {
     "name": "stdout",
     "output_type": "stream",
     "text": [
      "<class 'complex'>\n"
     ]
    }
   ],
   "execution_count": 36
  },
  {
   "metadata": {
    "ExecuteTime": {
     "end_time": "2024-07-04T19:00:35.243209Z",
     "start_time": "2024-07-04T19:00:35.240083Z"
    }
   },
   "cell_type": "code",
   "source": [
    "x = complex(3,4)\n",
    "y = complex(1,0)"
   ],
   "id": "a553bf2cbdf94152",
   "outputs": [],
   "execution_count": 37
  },
  {
   "metadata": {
    "ExecuteTime": {
     "end_time": "2024-07-04T19:00:41.543390Z",
     "start_time": "2024-07-04T19:00:41.536029Z"
    }
   },
   "cell_type": "code",
   "source": "x",
   "id": "e18bc73da9c09aec",
   "outputs": [
    {
     "data": {
      "text/plain": [
       "(3+4j)"
      ]
     },
     "execution_count": 38,
     "metadata": {},
     "output_type": "execute_result"
    }
   ],
   "execution_count": 38
  },
  {
   "metadata": {
    "ExecuteTime": {
     "end_time": "2024-07-04T19:00:43.439075Z",
     "start_time": "2024-07-04T19:00:43.432433Z"
    }
   },
   "cell_type": "code",
   "source": "y",
   "id": "293ad419f7f008ba",
   "outputs": [
    {
     "data": {
      "text/plain": [
       "(1+0j)"
      ]
     },
     "execution_count": 39,
     "metadata": {},
     "output_type": "execute_result"
    }
   ],
   "execution_count": 39
  },
  {
   "metadata": {
    "ExecuteTime": {
     "end_time": "2024-07-04T19:00:48.524900Z",
     "start_time": "2024-07-04T19:00:48.518899Z"
    }
   },
   "cell_type": "code",
   "source": "x+y",
   "id": "a3fc979c3e34d079",
   "outputs": [
    {
     "data": {
      "text/plain": [
       "(4+4j)"
      ]
     },
     "execution_count": 40,
     "metadata": {},
     "output_type": "execute_result"
    }
   ],
   "execution_count": 40
  },
  {
   "metadata": {
    "ExecuteTime": {
     "end_time": "2024-07-04T19:01:00.997761Z",
     "start_time": "2024-07-04T19:01:00.993225Z"
    }
   },
   "cell_type": "code",
   "source": [
    "z1 = 3 + 4j\n",
    "z2 = 1 - 2j\n",
    "z3 = z1 + z2\n",
    "print(z3) "
   ],
   "id": "ea62c5d411f45bf3",
   "outputs": [
    {
     "name": "stdout",
     "output_type": "stream",
     "text": [
      "(4+2j)\n"
     ]
    }
   ],
   "execution_count": 41
  },
  {
   "metadata": {
    "ExecuteTime": {
     "end_time": "2024-07-04T19:04:50.934508Z",
     "start_time": "2024-07-04T19:04:50.930559Z"
    }
   },
   "cell_type": "code",
   "source": "y = 4+2j",
   "id": "3eadd915e01a88c8",
   "outputs": [],
   "execution_count": 43
  },
  {
   "metadata": {
    "ExecuteTime": {
     "end_time": "2024-07-04T19:05:32.930779Z",
     "start_time": "2024-07-04T19:05:32.926797Z"
    }
   },
   "cell_type": "code",
   "source": [
    "x = int(\"35\")\n",
    "print(x)"
   ],
   "id": "c880eb116f910a28",
   "outputs": [
    {
     "name": "stdout",
     "output_type": "stream",
     "text": [
      "35\n"
     ]
    }
   ],
   "execution_count": 44
  },
  {
   "metadata": {
    "ExecuteTime": {
     "end_time": "2024-07-04T19:06:21.481815Z",
     "start_time": "2024-07-04T19:06:21.476214Z"
    }
   },
   "cell_type": "code",
   "source": [
    "x = \"merhaba\"\n",
    "print(x)"
   ],
   "id": "f8ea60e894fc051c",
   "outputs": [
    {
     "name": "stdout",
     "output_type": "stream",
     "text": [
      "merhaba\n"
     ]
    }
   ],
   "execution_count": 46
  },
  {
   "metadata": {
    "ExecuteTime": {
     "end_time": "2024-07-04T19:06:34.876357Z",
     "start_time": "2024-07-04T19:06:34.869641Z"
    }
   },
   "cell_type": "code",
   "source": [
    "x = 'merhaba20'\n",
    "x"
   ],
   "id": "7372e459754c92ff",
   "outputs": [
    {
     "data": {
      "text/plain": [
       "'merhaba20'"
      ]
     },
     "execution_count": 47,
     "metadata": {},
     "output_type": "execute_result"
    }
   ],
   "execution_count": 47
  },
  {
   "metadata": {
    "ExecuteTime": {
     "end_time": "2024-07-04T19:06:50.714571Z",
     "start_time": "2024-07-04T19:06:50.707786Z"
    }
   },
   "cell_type": "code",
   "source": [
    "x = \"ankara'da yaşarım\"\n",
    "x"
   ],
   "id": "3a46bac59bc692e0",
   "outputs": [
    {
     "data": {
      "text/plain": [
       "\"ankara'da yaşarım\""
      ]
     },
     "execution_count": 48,
     "metadata": {},
     "output_type": "execute_result"
    }
   ],
   "execution_count": 48
  },
  {
   "metadata": {
    "ExecuteTime": {
     "end_time": "2024-07-04T19:08:17.349990Z",
     "start_time": "2024-07-04T19:08:17.345666Z"
    }
   },
   "cell_type": "code",
   "source": "x = 'onun ada \"jordani\"' ",
   "id": "6cb560e97107d8eb",
   "outputs": [],
   "execution_count": 51
  },
  {
   "metadata": {
    "ExecuteTime": {
     "end_time": "2024-07-04T19:08:18.249776Z",
     "start_time": "2024-07-04T19:08:18.245251Z"
    }
   },
   "cell_type": "code",
   "source": "x",
   "id": "455f533d43a35c36",
   "outputs": [
    {
     "data": {
      "text/plain": [
       "'onun ada \"jordani\"'"
      ]
     },
     "execution_count": 52,
     "metadata": {},
     "output_type": "execute_result"
    }
   ],
   "execution_count": 52
  },
  {
   "metadata": {
    "ExecuteTime": {
     "end_time": "2024-07-04T19:09:16.008944Z",
     "start_time": "2024-07-04T19:09:16.004567Z"
    }
   },
   "cell_type": "code",
   "source": [
    "a = \"merhama\"\n",
    "b = \"ramazan\"\n",
    "print(a,b)\n"
   ],
   "id": "ffeebc4c9a075b86",
   "outputs": [
    {
     "name": "stdout",
     "output_type": "stream",
     "text": [
      "merhama ramazan\n"
     ]
    }
   ],
   "execution_count": 56
  },
  {
   "metadata": {
    "ExecuteTime": {
     "end_time": "2024-07-04T19:09:24.996488Z",
     "start_time": "2024-07-04T19:09:24.990913Z"
    }
   },
   "cell_type": "code",
   "source": "print(a,b)",
   "id": "e73688e4426ed7bb",
   "outputs": [
    {
     "name": "stdout",
     "output_type": "stream",
     "text": [
      "merhama ramazan\n"
     ]
    }
   ],
   "execution_count": 57
  },
  {
   "metadata": {
    "ExecuteTime": {
     "end_time": "2024-07-04T19:20:16.019111Z",
     "start_time": "2024-07-04T19:20:16.015136Z"
    }
   },
   "cell_type": "code",
   "source": [
    "x = \"ali\"\n",
    "y = \"ahmet\""
   ],
   "id": "8c78e50202913b2e",
   "outputs": [],
   "execution_count": 59
  },
  {
   "metadata": {
    "ExecuteTime": {
     "end_time": "2024-07-04T19:20:52.548457Z",
     "start_time": "2024-07-04T19:20:52.542370Z"
    }
   },
   "cell_type": "code",
   "source": [
    "x = True\n",
    "type(x)"
   ],
   "id": "ab1f008918c71ebc",
   "outputs": [
    {
     "data": {
      "text/plain": [
       "bool"
      ]
     },
     "execution_count": 60,
     "metadata": {},
     "output_type": "execute_result"
    }
   ],
   "execution_count": 60
  },
  {
   "metadata": {
    "ExecuteTime": {
     "end_time": "2024-07-04T19:21:23.882191Z",
     "start_time": "2024-07-04T19:21:23.878179Z"
    }
   },
   "cell_type": "code",
   "source": "200<300",
   "id": "e342e62c549a857e",
   "outputs": [
    {
     "data": {
      "text/plain": [
       "True"
      ]
     },
     "execution_count": 61,
     "metadata": {},
     "output_type": "execute_result"
    }
   ],
   "execution_count": 61
  },
  {
   "metadata": {
    "ExecuteTime": {
     "end_time": "2024-07-04T19:21:30.027578Z",
     "start_time": "2024-07-04T19:21:30.020841Z"
    }
   },
   "cell_type": "code",
   "source": "100<20",
   "id": "d1631f3305d00022",
   "outputs": [
    {
     "data": {
      "text/plain": [
       "False"
      ]
     },
     "execution_count": 62,
     "metadata": {},
     "output_type": "execute_result"
    }
   ],
   "execution_count": 62
  },
  {
   "metadata": {
    "ExecuteTime": {
     "end_time": "2024-07-04T19:22:15.383019Z",
     "start_time": "2024-07-04T19:22:15.376005Z"
    }
   },
   "cell_type": "code",
   "source": "bool(15)",
   "id": "a31b9df8bb25b3f3",
   "outputs": [
    {
     "data": {
      "text/plain": [
       "True"
      ]
     },
     "execution_count": 63,
     "metadata": {},
     "output_type": "execute_result"
    }
   ],
   "execution_count": 63
  },
  {
   "metadata": {
    "ExecuteTime": {
     "end_time": "2024-07-04T19:22:19.600689Z",
     "start_time": "2024-07-04T19:22:19.596131Z"
    }
   },
   "cell_type": "code",
   "source": "bool(0)",
   "id": "d40f5e7bb250ea46",
   "outputs": [
    {
     "data": {
      "text/plain": [
       "False"
      ]
     },
     "execution_count": 64,
     "metadata": {},
     "output_type": "execute_result"
    }
   ],
   "execution_count": 64
  },
  {
   "metadata": {
    "ExecuteTime": {
     "end_time": "2024-07-04T19:22:24.744983Z",
     "start_time": "2024-07-04T19:22:24.740086Z"
    }
   },
   "cell_type": "code",
   "source": "bool(1)",
   "id": "fb8795441cf55e66",
   "outputs": [
    {
     "data": {
      "text/plain": [
       "True"
      ]
     },
     "execution_count": 65,
     "metadata": {},
     "output_type": "execute_result"
    }
   ],
   "execution_count": 65
  },
  {
   "metadata": {
    "ExecuteTime": {
     "end_time": "2024-07-04T19:22:29.096129Z",
     "start_time": "2024-07-04T19:22:29.091863Z"
    }
   },
   "cell_type": "code",
   "source": "bool(-1)",
   "id": "54d01577f7d0411d",
   "outputs": [
    {
     "data": {
      "text/plain": [
       "True"
      ]
     },
     "execution_count": 66,
     "metadata": {},
     "output_type": "execute_result"
    }
   ],
   "execution_count": 66
  },
  {
   "metadata": {
    "ExecuteTime": {
     "end_time": "2024-07-04T19:25:03.223876Z",
     "start_time": "2024-07-04T19:25:03.218891Z"
    }
   },
   "cell_type": "code",
   "source": [
    "x=22\n",
    "y=7"
   ],
   "id": "71cb7d1140f56494",
   "outputs": [],
   "execution_count": 73
  },
  {
   "metadata": {
    "ExecuteTime": {
     "end_time": "2024-07-04T19:25:03.603651Z",
     "start_time": "2024-07-04T19:25:03.597705Z"
    }
   },
   "cell_type": "code",
   "source": [
    "#Python Arithmetic Operators\n",
    "x+y"
   ],
   "id": "723db0088978450c",
   "outputs": [
    {
     "data": {
      "text/plain": [
       "29"
      ]
     },
     "execution_count": 74,
     "metadata": {},
     "output_type": "execute_result"
    }
   ],
   "execution_count": 74
  },
  {
   "metadata": {
    "ExecuteTime": {
     "end_time": "2024-07-04T19:25:03.922529Z",
     "start_time": "2024-07-04T19:25:03.917486Z"
    }
   },
   "cell_type": "code",
   "source": "x-y",
   "id": "9247d30e997963ad",
   "outputs": [
    {
     "data": {
      "text/plain": [
       "15"
      ]
     },
     "execution_count": 75,
     "metadata": {},
     "output_type": "execute_result"
    }
   ],
   "execution_count": 75
  },
  {
   "metadata": {
    "ExecuteTime": {
     "end_time": "2024-07-04T19:25:04.411150Z",
     "start_time": "2024-07-04T19:25:04.407246Z"
    }
   },
   "cell_type": "code",
   "source": "x*y",
   "id": "318b1e6043a05782",
   "outputs": [
    {
     "data": {
      "text/plain": [
       "154"
      ]
     },
     "execution_count": 76,
     "metadata": {},
     "output_type": "execute_result"
    }
   ],
   "execution_count": 76
  },
  {
   "metadata": {
    "ExecuteTime": {
     "end_time": "2024-07-04T19:25:04.908255Z",
     "start_time": "2024-07-04T19:25:04.904124Z"
    }
   },
   "cell_type": "code",
   "source": "x/y",
   "id": "8f691a19252dfb4",
   "outputs": [
    {
     "data": {
      "text/plain": [
       "3.142857142857143"
      ]
     },
     "execution_count": 77,
     "metadata": {},
     "output_type": "execute_result"
    }
   ],
   "execution_count": 77
  },
  {
   "metadata": {
    "ExecuteTime": {
     "end_time": "2024-07-04T19:25:05.388735Z",
     "start_time": "2024-07-04T19:25:05.384212Z"
    }
   },
   "cell_type": "code",
   "source": "x%y",
   "id": "5ae4ee5e8e405d97",
   "outputs": [
    {
     "data": {
      "text/plain": [
       "1"
      ]
     },
     "execution_count": 78,
     "metadata": {},
     "output_type": "execute_result"
    }
   ],
   "execution_count": 78
  },
  {
   "metadata": {
    "ExecuteTime": {
     "end_time": "2024-07-04T19:25:13.965593Z",
     "start_time": "2024-07-04T19:25:13.961144Z"
    }
   },
   "cell_type": "code",
   "source": "2**3",
   "id": "b994e29812e35d01",
   "outputs": [
    {
     "data": {
      "text/plain": [
       "8"
      ]
     },
     "execution_count": 79,
     "metadata": {},
     "output_type": "execute_result"
    }
   ],
   "execution_count": 79
  },
  {
   "metadata": {
    "ExecuteTime": {
     "end_time": "2024-07-04T19:25:18.801728Z",
     "start_time": "2024-07-04T19:25:18.797364Z"
    }
   },
   "cell_type": "code",
   "source": [
    "\n",
    "2**4"
   ],
   "id": "f7aa6023bf6471f1",
   "outputs": [
    {
     "data": {
      "text/plain": [
       "16"
      ]
     },
     "execution_count": 80,
     "metadata": {},
     "output_type": "execute_result"
    }
   ],
   "execution_count": 80
  },
  {
   "metadata": {
    "ExecuteTime": {
     "end_time": "2024-07-04T19:25:27.489598Z",
     "start_time": "2024-07-04T19:25:27.483658Z"
    }
   },
   "cell_type": "code",
   "source": "16//3",
   "id": "61746bc9cf4036e0",
   "outputs": [
    {
     "data": {
      "text/plain": [
       "5"
      ]
     },
     "execution_count": 81,
     "metadata": {},
     "output_type": "execute_result"
    }
   ],
   "execution_count": 81
  },
  {
   "metadata": {
    "ExecuteTime": {
     "end_time": "2024-07-04T19:25:45.782379Z",
     "start_time": "2024-07-04T19:25:45.776638Z"
    }
   },
   "cell_type": "code",
   "source": [
    "#Python Assignment Operators\n",
    "x = 5\n",
    "x+=3\n",
    "x"
   ],
   "id": "db9935875d181504",
   "outputs": [
    {
     "data": {
      "text/plain": [
       "8"
      ]
     },
     "execution_count": 82,
     "metadata": {},
     "output_type": "execute_result"
    }
   ],
   "execution_count": 82
  },
  {
   "metadata": {
    "ExecuteTime": {
     "end_time": "2024-07-04T19:25:54.049997Z",
     "start_time": "2024-07-04T19:25:54.046640Z"
    }
   },
   "cell_type": "code",
   "source": "x=x+5",
   "id": "bf150d50913154be",
   "outputs": [],
   "execution_count": 83
  },
  {
   "metadata": {
    "ExecuteTime": {
     "end_time": "2024-07-04T19:25:56.483609Z",
     "start_time": "2024-07-04T19:25:56.476523Z"
    }
   },
   "cell_type": "code",
   "source": "x",
   "id": "b56a27333dc4592a",
   "outputs": [
    {
     "data": {
      "text/plain": [
       "13"
      ]
     },
     "execution_count": 84,
     "metadata": {},
     "output_type": "execute_result"
    }
   ],
   "execution_count": 84
  },
  {
   "metadata": {
    "ExecuteTime": {
     "end_time": "2024-07-04T19:26:30.457965Z",
     "start_time": "2024-07-04T19:26:30.453019Z"
    }
   },
   "cell_type": "code",
   "source": "x|3",
   "id": "29e80da84848e58c",
   "outputs": [
    {
     "data": {
      "text/plain": [
       "15"
      ]
     },
     "execution_count": 85,
     "metadata": {},
     "output_type": "execute_result"
    }
   ],
   "execution_count": 85
  },
  {
   "metadata": {
    "ExecuteTime": {
     "end_time": "2024-07-04T19:30:45.966808Z",
     "start_time": "2024-07-04T19:30:45.960808Z"
    }
   },
   "cell_type": "code",
   "source": "x",
   "id": "6174353be10dfd4c",
   "outputs": [
    {
     "data": {
      "text/plain": [
       "13"
      ]
     },
     "execution_count": 86,
     "metadata": {},
     "output_type": "execute_result"
    }
   ],
   "execution_count": 86
  },
  {
   "metadata": {
    "ExecuteTime": {
     "end_time": "2024-07-04T19:30:50.521171Z",
     "start_time": "2024-07-04T19:30:50.514806Z"
    }
   },
   "cell_type": "code",
   "source": "bin(x)",
   "id": "6789daf07120e760",
   "outputs": [
    {
     "data": {
      "text/plain": [
       "'0b1101'"
      ]
     },
     "execution_count": 87,
     "metadata": {},
     "output_type": "execute_result"
    }
   ],
   "execution_count": 87
  },
  {
   "metadata": {
    "ExecuteTime": {
     "end_time": "2024-07-04T19:32:25.847898Z",
     "start_time": "2024-07-04T19:32:25.830965Z"
    }
   },
   "cell_type": "code",
   "source": "",
   "id": "482c96cfe2ca2312",
   "outputs": [
    {
     "ename": "TypeError",
     "evalue": "'str' object cannot be interpreted as an integer",
     "output_type": "error",
     "traceback": [
      "\u001B[1;31m---------------------------------------------------------------------------\u001B[0m",
      "\u001B[1;31mTypeError\u001B[0m                                 Traceback (most recent call last)",
      "Cell \u001B[1;32mIn[88], line 1\u001B[0m\n\u001B[1;32m----> 1\u001B[0m \u001B[38;5;28mbin\u001B[39m(a)\n",
      "\u001B[1;31mTypeError\u001B[0m: 'str' object cannot be interpreted as an integer"
     ]
    }
   ],
   "execution_count": 88
  },
  {
   "metadata": {
    "ExecuteTime": {
     "end_time": "2024-07-04T19:33:39.449841Z",
     "start_time": "2024-07-04T19:33:39.444047Z"
    }
   },
   "cell_type": "code",
   "source": "ord(\"i\")",
   "id": "f6a1106fd488fcf0",
   "outputs": [
    {
     "data": {
      "text/plain": [
       "105"
      ]
     },
     "execution_count": 90,
     "metadata": {},
     "output_type": "execute_result"
    }
   ],
   "execution_count": 90
  },
  {
   "metadata": {
    "ExecuteTime": {
     "end_time": "2024-07-04T19:34:03.136664Z",
     "start_time": "2024-07-04T19:34:03.130651Z"
    }
   },
   "cell_type": "code",
   "source": "ord(\".\")",
   "id": "1fc4706402b8a304",
   "outputs": [
    {
     "data": {
      "text/plain": [
       "46"
      ]
     },
     "execution_count": 91,
     "metadata": {},
     "output_type": "execute_result"
    }
   ],
   "execution_count": 91
  },
  {
   "metadata": {
    "ExecuteTime": {
     "end_time": "2024-07-04T19:34:45.211343Z",
     "start_time": "2024-07-04T19:34:45.206193Z"
    }
   },
   "cell_type": "code",
   "source": "print(\"\\U0001F600\")",
   "id": "80e21f8649979f6b",
   "outputs": [
    {
     "name": "stdout",
     "output_type": "stream",
     "text": [
      "😀\n"
     ]
    }
   ],
   "execution_count": 92
  },
  {
   "metadata": {
    "ExecuteTime": {
     "end_time": "2024-07-04T19:35:42.181630Z",
     "start_time": "2024-07-04T19:35:42.175318Z"
    }
   },
   "cell_type": "code",
   "source": [
    "#Python Comparison Operators\n",
    "x=4\n",
    "y=5\n",
    "x==y"
   ],
   "id": "424e200ed93e15c4",
   "outputs": [
    {
     "data": {
      "text/plain": [
       "False"
      ]
     },
     "execution_count": 93,
     "metadata": {},
     "output_type": "execute_result"
    }
   ],
   "execution_count": 93
  },
  {
   "metadata": {
    "ExecuteTime": {
     "end_time": "2024-07-04T19:35:58.846196Z",
     "start_time": "2024-07-04T19:35:58.838119Z"
    }
   },
   "cell_type": "code",
   "source": "x!=y",
   "id": "4276630e2b78691e",
   "outputs": [
    {
     "data": {
      "text/plain": [
       "True"
      ]
     },
     "execution_count": 95,
     "metadata": {},
     "output_type": "execute_result"
    }
   ],
   "execution_count": 95
  },
  {
   "metadata": {
    "ExecuteTime": {
     "end_time": "2024-07-04T19:36:33.812866Z",
     "start_time": "2024-07-04T19:36:33.805198Z"
    }
   },
   "cell_type": "code",
   "source": "x<y",
   "id": "57b097c66d5d10e6",
   "outputs": [
    {
     "data": {
      "text/plain": [
       "True"
      ]
     },
     "execution_count": 96,
     "metadata": {},
     "output_type": "execute_result"
    }
   ],
   "execution_count": 96
  },
  {
   "metadata": {
    "ExecuteTime": {
     "end_time": "2024-07-04T19:36:37.382545Z",
     "start_time": "2024-07-04T19:36:37.375434Z"
    }
   },
   "cell_type": "code",
   "source": "x>y",
   "id": "dd0681a9d3495d0b",
   "outputs": [
    {
     "data": {
      "text/plain": [
       "False"
      ]
     },
     "execution_count": 97,
     "metadata": {},
     "output_type": "execute_result"
    }
   ],
   "execution_count": 97
  },
  {
   "metadata": {
    "ExecuteTime": {
     "end_time": "2024-07-04T19:36:43.240036Z",
     "start_time": "2024-07-04T19:36:43.234496Z"
    }
   },
   "cell_type": "code",
   "source": "x>=y",
   "id": "16eb82b87854498e",
   "outputs": [
    {
     "data": {
      "text/plain": [
       "False"
      ]
     },
     "execution_count": 98,
     "metadata": {},
     "output_type": "execute_result"
    }
   ],
   "execution_count": 98
  },
  {
   "metadata": {
    "ExecuteTime": {
     "end_time": "2024-07-04T19:36:47.236074Z",
     "start_time": "2024-07-04T19:36:47.230837Z"
    }
   },
   "cell_type": "code",
   "source": "x<=y",
   "id": "73a873b4fb6e9094",
   "outputs": [
    {
     "data": {
      "text/plain": [
       "True"
      ]
     },
     "execution_count": 99,
     "metadata": {},
     "output_type": "execute_result"
    }
   ],
   "execution_count": 99
  },
  {
   "metadata": {
    "ExecuteTime": {
     "end_time": "2024-07-04T19:38:17.523736Z",
     "start_time": "2024-07-04T19:38:17.517185Z"
    }
   },
   "cell_type": "code",
   "source": [
    "#Python Identity Operators\n",
    "4 is 5"
   ],
   "id": "f35431129adcba97",
   "outputs": [
    {
     "name": "stderr",
     "output_type": "stream",
     "text": [
      "<>:1: SyntaxWarning: \"is\" with a literal. Did you mean \"==\"?\n",
      "<>:1: SyntaxWarning: \"is\" with a literal. Did you mean \"==\"?\n",
      "C:\\Users\\rayes\\AppData\\Local\\Temp\\ipykernel_3120\\1888456137.py:1: SyntaxWarning: \"is\" with a literal. Did you mean \"==\"?\n",
      "  4 is 5\n"
     ]
    },
    {
     "data": {
      "text/plain": [
       "False"
      ]
     },
     "execution_count": 102,
     "metadata": {},
     "output_type": "execute_result"
    }
   ],
   "execution_count": 102
  },
  {
   "metadata": {
    "ExecuteTime": {
     "end_time": "2024-07-04T19:39:49.945309Z",
     "start_time": "2024-07-04T19:39:49.940375Z"
    }
   },
   "cell_type": "code",
   "source": [
    "#Python Logical Operators\n",
    "# Logical operators are used to combine conditional statements:\n",
    "x = 8\n",
    "print(x<5 and x>7)"
   ],
   "id": "d97ee7bbd80b685d",
   "outputs": [
    {
     "name": "stdout",
     "output_type": "stream",
     "text": [
      "False\n"
     ]
    }
   ],
   "execution_count": 103
  },
  {
   "metadata": {
    "ExecuteTime": {
     "end_time": "2024-07-04T19:39:59.975275Z",
     "start_time": "2024-07-04T19:39:59.970797Z"
    }
   },
   "cell_type": "code",
   "source": "print(x<9 and x>7)",
   "id": "af6591e1eb81ad64",
   "outputs": [
    {
     "name": "stdout",
     "output_type": "stream",
     "text": [
      "True\n"
     ]
    }
   ],
   "execution_count": 104
  },
  {
   "metadata": {
    "ExecuteTime": {
     "end_time": "2024-07-04T19:40:09.266980Z",
     "start_time": "2024-07-04T19:40:09.261775Z"
    }
   },
   "cell_type": "code",
   "source": "print(x<1 or x>7)",
   "id": "2b10c2dd5cd232da",
   "outputs": [
    {
     "name": "stdout",
     "output_type": "stream",
     "text": [
      "True\n"
     ]
    }
   ],
   "execution_count": 105
  },
  {
   "metadata": {
    "ExecuteTime": {
     "end_time": "2024-07-04T19:41:15.661062Z",
     "start_time": "2024-07-04T19:41:15.656323Z"
    }
   },
   "cell_type": "code",
   "source": "print(not (x<9 and x>7))",
   "id": "afa41487f4b2a8ca",
   "outputs": [
    {
     "name": "stdout",
     "output_type": "stream",
     "text": [
      "False\n"
     ]
    }
   ],
   "execution_count": 108
  },
  {
   "metadata": {
    "ExecuteTime": {
     "end_time": "2024-07-04T19:46:30.515118Z",
     "start_time": "2024-07-04T19:46:30.510922Z"
    }
   },
   "cell_type": "code",
   "source": [
    "#Python Membership Operators\n",
    "\"a\" in \"ali\""
   ],
   "id": "f64a7dc7569cb250",
   "outputs": [
    {
     "data": {
      "text/plain": [
       "True"
      ]
     },
     "execution_count": 109,
     "metadata": {},
     "output_type": "execute_result"
    }
   ],
   "execution_count": 109
  },
  {
   "metadata": {
    "ExecuteTime": {
     "end_time": "2024-07-04T19:46:52.780433Z",
     "start_time": "2024-07-04T19:46:52.774490Z"
    }
   },
   "cell_type": "code",
   "source": "\"a\" not in  \"ali\"",
   "id": "619d3cca32fbe0e5",
   "outputs": [
    {
     "data": {
      "text/plain": [
       "False"
      ]
     },
     "execution_count": 111,
     "metadata": {},
     "output_type": "execute_result"
    }
   ],
   "execution_count": 111
  },
  {
   "metadata": {
    "ExecuteTime": {
     "end_time": "2024-07-04T19:48:44.978400Z",
     "start_time": "2024-07-04T19:48:44.962891Z"
    }
   },
   "cell_type": "code",
   "source": "import pytorch",
   "id": "b49076929da84c98",
   "outputs": [
    {
     "ename": "ModuleNotFoundError",
     "evalue": "No module named 'pytorch'",
     "output_type": "error",
     "traceback": [
      "\u001B[1;31m---------------------------------------------------------------------------\u001B[0m",
      "\u001B[1;31mModuleNotFoundError\u001B[0m                       Traceback (most recent call last)",
      "Cell \u001B[1;32mIn[112], line 1\u001B[0m\n\u001B[1;32m----> 1\u001B[0m \u001B[38;5;28;01mimport\u001B[39;00m \u001B[38;5;21;01mpytorch\u001B[39;00m\n",
      "\u001B[1;31mModuleNotFoundError\u001B[0m: No module named 'pytorch'"
     ]
    }
   ],
   "execution_count": 112
  },
  {
   "metadata": {
    "jupyter": {
     "is_executing": true
    }
   },
   "cell_type": "code",
   "source": "ord(h)",
   "id": "92fe8c8d41866972",
   "outputs": [],
   "execution_count": null
  },
  {
   "metadata": {
    "ExecuteTime": {
     "end_time": "2024-07-04T19:51:44.214133Z",
     "start_time": "2024-07-04T19:51:43.956160Z"
    }
   },
   "cell_type": "code",
   "source": "import pytorch",
   "id": "cb5e4f50ddb9820d",
   "outputs": [
    {
     "ename": "ModuleNotFoundError",
     "evalue": "No module named 'pytorch'",
     "output_type": "error",
     "traceback": [
      "\u001B[1;31m---------------------------------------------------------------------------\u001B[0m",
      "\u001B[1;31mModuleNotFoundError\u001B[0m                       Traceback (most recent call last)",
      "Cell \u001B[1;32mIn[1], line 1\u001B[0m\n\u001B[1;32m----> 1\u001B[0m \u001B[38;5;28;01mimport\u001B[39;00m \u001B[38;5;21;01mpytorch\u001B[39;00m\n",
      "\u001B[1;31mModuleNotFoundError\u001B[0m: No module named 'pytorch'"
     ]
    }
   ],
   "execution_count": 1
  },
  {
   "metadata": {
    "ExecuteTime": {
     "end_time": "2024-07-04T19:52:23.776140Z",
     "start_time": "2024-07-04T19:52:23.763860Z"
    }
   },
   "cell_type": "code",
   "source": "ord(\"h\")",
   "id": "a8371745c1ca9d90",
   "outputs": [
    {
     "data": {
      "text/plain": [
       "104"
      ]
     },
     "execution_count": 3,
     "metadata": {},
     "output_type": "execute_result"
    }
   ],
   "execution_count": 3
  },
  {
   "metadata": {
    "ExecuteTime": {
     "end_time": "2024-07-04T19:53:09.471668Z",
     "start_time": "2024-07-04T19:53:09.467206Z"
    }
   },
   "cell_type": "code",
   "source": "bin(104)",
   "id": "f4c86bcf9dd13a07",
   "outputs": [
    {
     "data": {
      "text/plain": [
       "'0b1101000'"
      ]
     },
     "execution_count": 6,
     "metadata": {},
     "output_type": "execute_result"
    }
   ],
   "execution_count": 6
  },
  {
   "metadata": {
    "ExecuteTime": {
     "end_time": "2024-07-05T16:57:05.103389Z",
     "start_time": "2024-07-05T16:57:05.087868Z"
    }
   },
   "cell_type": "code",
   "source": "bin(1)",
   "id": "da04cb23fb24c3ad",
   "outputs": [
    {
     "data": {
      "text/plain": [
       "'0b1'"
      ]
     },
     "execution_count": 1,
     "metadata": {},
     "output_type": "execute_result"
    }
   ],
   "execution_count": 1
  },
  {
   "metadata": {},
   "cell_type": "markdown",
   "source": [
    "Lists are used to store multiple items in a single variable.\n",
    "\n",
    "Lists are one of 4 built-in data types in Python used to store collections of data, the other 3 are Tuple, Set, and Dictionary, all with different qualities and usage.\n",
    "\n",
    "Lists are created using square brackets:"
   ],
   "id": "d576ad7f6dc3bc44"
  },
  {
   "metadata": {
    "ExecuteTime": {
     "end_time": "2024-07-05T17:01:57.076749Z",
     "start_time": "2024-07-05T17:01:57.069855Z"
    }
   },
   "cell_type": "code",
   "source": [
    "myList = [\"apple\",\"orange\",\"pear\"] \n",
    "#Changeable The list is changeable, meaning that we can change, add, and remove items in a list after it has been created"
   ],
   "id": "8d609913a3318bf8",
   "outputs": [],
   "execution_count": 1
  },
  {
   "metadata": {
    "ExecuteTime": {
     "end_time": "2024-07-05T17:05:38.744674Z",
     "start_time": "2024-07-05T17:05:38.740195Z"
    }
   },
   "cell_type": "code",
   "source": [
    "myList = [1,1,2,2,3,3] # can dublicate\n",
    "print(myList)"
   ],
   "id": "acc30f267efb4ad4",
   "outputs": [
    {
     "name": "stdout",
     "output_type": "stream",
     "text": [
      "[1, 1, 2, 2, 3, 3]\n"
     ]
    }
   ],
   "execution_count": 13
  },
  {
   "metadata": {
    "ExecuteTime": {
     "end_time": "2024-07-05T17:03:24.420124Z",
     "start_time": "2024-07-05T17:03:24.413658Z"
    }
   },
   "cell_type": "code",
   "source": "len(myList)",
   "id": "a9584397a53de275",
   "outputs": [
    {
     "data": {
      "text/plain": [
       "6"
      ]
     },
     "execution_count": 4,
     "metadata": {},
     "output_type": "execute_result"
    }
   ],
   "execution_count": 4
  },
  {
   "metadata": {
    "ExecuteTime": {
     "end_time": "2024-07-05T17:05:33.290972Z",
     "start_time": "2024-07-05T17:05:33.287474Z"
    }
   },
   "cell_type": "code",
   "source": "mYlist2 = [True,True,True,True,True,False]",
   "id": "fe560905b0e29aa5",
   "outputs": [],
   "execution_count": 10
  },
  {
   "metadata": {
    "ExecuteTime": {
     "end_time": "2024-07-05T17:06:04.997436Z",
     "start_time": "2024-07-05T17:06:04.994070Z"
    }
   },
   "cell_type": "code",
   "source": "binaryL =list(map(bin,myList))",
   "id": "3ded7026c8ebcc84",
   "outputs": [],
   "execution_count": 16
  },
  {
   "metadata": {
    "ExecuteTime": {
     "end_time": "2024-07-05T17:06:05.481949Z",
     "start_time": "2024-07-05T17:06:05.477135Z"
    }
   },
   "cell_type": "code",
   "source": "print(binaryL) ",
   "id": "fc7097477ee93c38",
   "outputs": [
    {
     "name": "stdout",
     "output_type": "stream",
     "text": [
      "['0b1', '0b1', '0b10', '0b10', '0b11', '0b11']\n"
     ]
    }
   ],
   "execution_count": 17
  },
  {
   "metadata": {
    "ExecuteTime": {
     "end_time": "2024-07-05T17:06:29.081881Z",
     "start_time": "2024-07-05T17:06:29.078528Z"
    }
   },
   "cell_type": "code",
   "source": "list3 = [True, False, False]",
   "id": "b82029b7f9f8723d",
   "outputs": [],
   "execution_count": 18
  },
  {
   "metadata": {
    "ExecuteTime": {
     "end_time": "2024-07-05T17:07:19.837733Z",
     "start_time": "2024-07-05T17:07:19.834112Z"
    }
   },
   "cell_type": "code",
   "source": "list1 = [1,2,3,\"ali\",True]",
   "id": "44e15c14d2ec1f2c",
   "outputs": [],
   "execution_count": 19
  },
  {
   "metadata": {
    "ExecuteTime": {
     "end_time": "2024-07-05T17:07:25.205581Z",
     "start_time": "2024-07-05T17:07:25.201650Z"
    }
   },
   "cell_type": "code",
   "source": "print(list1)",
   "id": "4a71dddd9d78ef02",
   "outputs": [
    {
     "name": "stdout",
     "output_type": "stream",
     "text": [
      "[1, 2, 3, 'ali', True]\n"
     ]
    }
   ],
   "execution_count": 20
  },
  {
   "metadata": {
    "ExecuteTime": {
     "end_time": "2024-07-05T17:07:31.749238Z",
     "start_time": "2024-07-05T17:07:31.743751Z"
    }
   },
   "cell_type": "code",
   "source": "type(list1)",
   "id": "ac0c08f5f06418c6",
   "outputs": [
    {
     "data": {
      "text/plain": [
       "list"
      ]
     },
     "execution_count": 21,
     "metadata": {},
     "output_type": "execute_result"
    }
   ],
   "execution_count": 21
  },
  {
   "metadata": {
    "ExecuteTime": {
     "end_time": "2024-07-05T17:11:49.089110Z",
     "start_time": "2024-07-05T17:11:49.085510Z"
    }
   },
   "cell_type": "code",
   "source": "myList3 = list((4,5,6))",
   "id": "fc025e85bb0100e8",
   "outputs": [],
   "execution_count": 22
  },
  {
   "metadata": {
    "ExecuteTime": {
     "end_time": "2024-07-05T17:11:51.678920Z",
     "start_time": "2024-07-05T17:11:51.674004Z"
    }
   },
   "cell_type": "code",
   "source": "myList3",
   "id": "a80c54810534f949",
   "outputs": [
    {
     "data": {
      "text/plain": [
       "[4, 5, 6]"
      ]
     },
     "execution_count": 23,
     "metadata": {},
     "output_type": "execute_result"
    }
   ],
   "execution_count": 23
  },
  {
   "metadata": {
    "ExecuteTime": {
     "end_time": "2024-07-05T17:12:58.303965Z",
     "start_time": "2024-07-05T17:12:58.299753Z"
    }
   },
   "cell_type": "code",
   "source": [
    "#List items are indexed and you can access them by referring to the index number:\n",
    "myList4 = [\"ahmet\",\"nazım\",\"cemal\"]"
   ],
   "id": "45ad929c8136aad4",
   "outputs": [],
   "execution_count": 24
  },
  {
   "metadata": {
    "ExecuteTime": {
     "end_time": "2024-07-05T17:13:23.736036Z",
     "start_time": "2024-07-05T17:13:23.731582Z"
    }
   },
   "cell_type": "code",
   "source": "myList4[0]",
   "id": "d7f5cd0e59c44f0a",
   "outputs": [
    {
     "data": {
      "text/plain": [
       "'ahmet'"
      ]
     },
     "execution_count": 27,
     "metadata": {},
     "output_type": "execute_result"
    }
   ],
   "execution_count": 27
  },
  {
   "metadata": {
    "ExecuteTime": {
     "end_time": "2024-07-05T17:14:20.497960Z",
     "start_time": "2024-07-05T17:14:20.488073Z"
    }
   },
   "cell_type": "code",
   "source": "myList4[2]",
   "id": "448bcc33f9141b1a",
   "outputs": [
    {
     "data": {
      "text/plain": [
       "'cemal'"
      ]
     },
     "execution_count": 28,
     "metadata": {},
     "output_type": "execute_result"
    }
   ],
   "execution_count": 28
  },
  {
   "metadata": {
    "ExecuteTime": {
     "end_time": "2024-07-05T17:14:32.672558Z",
     "start_time": "2024-07-05T17:14:32.667254Z"
    }
   },
   "cell_type": "code",
   "source": "myList4[-1]",
   "id": "f6d91583e5f2b427",
   "outputs": [
    {
     "data": {
      "text/plain": [
       "'cemal'"
      ]
     },
     "execution_count": 30,
     "metadata": {},
     "output_type": "execute_result"
    }
   ],
   "execution_count": 30
  },
  {
   "metadata": {
    "ExecuteTime": {
     "end_time": "2024-07-05T17:15:11.903664Z",
     "start_time": "2024-07-05T17:15:11.899634Z"
    }
   },
   "cell_type": "code",
   "source": "myList5 = [\"a\",\"b\",\"c\",\"d\",\"e\",\"f\"]",
   "id": "b48875c7dfd3ed43",
   "outputs": [],
   "execution_count": 31
  },
  {
   "metadata": {
    "ExecuteTime": {
     "end_time": "2024-07-05T17:15:19.478927Z",
     "start_time": "2024-07-05T17:15:19.473485Z"
    }
   },
   "cell_type": "code",
   "source": "myList5[0:]",
   "id": "d1fd92fbde2cd583",
   "outputs": [
    {
     "data": {
      "text/plain": [
       "['a', 'b', 'c', 'd', 'e', 'f']"
      ]
     },
     "execution_count": 32,
     "metadata": {},
     "output_type": "execute_result"
    }
   ],
   "execution_count": 32
  },
  {
   "metadata": {
    "ExecuteTime": {
     "end_time": "2024-07-05T17:15:26.998600Z",
     "start_time": "2024-07-05T17:15:26.994552Z"
    }
   },
   "cell_type": "code",
   "source": "myList5[2:]",
   "id": "a11268bd3fb951c1",
   "outputs": [
    {
     "data": {
      "text/plain": [
       "['c', 'd', 'e', 'f']"
      ]
     },
     "execution_count": 33,
     "metadata": {},
     "output_type": "execute_result"
    }
   ],
   "execution_count": 33
  },
  {
   "metadata": {
    "ExecuteTime": {
     "end_time": "2024-07-05T17:15:40.300176Z",
     "start_time": "2024-07-05T17:15:40.294726Z"
    }
   },
   "cell_type": "code",
   "source": "myList5[:2]",
   "id": "dc8dd21d81959509",
   "outputs": [
    {
     "data": {
      "text/plain": [
       "['a', 'b']"
      ]
     },
     "execution_count": 34,
     "metadata": {},
     "output_type": "execute_result"
    }
   ],
   "execution_count": 34
  },
  {
   "metadata": {
    "ExecuteTime": {
     "end_time": "2024-07-05T17:15:53.426535Z",
     "start_time": "2024-07-05T17:15:53.419555Z"
    }
   },
   "cell_type": "code",
   "source": "myList5[2:5]",
   "id": "9a94162472378381",
   "outputs": [
    {
     "data": {
      "text/plain": [
       "['c', 'd', 'e']"
      ]
     },
     "execution_count": 35,
     "metadata": {},
     "output_type": "execute_result"
    }
   ],
   "execution_count": 35
  },
  {
   "metadata": {
    "ExecuteTime": {
     "end_time": "2024-07-05T17:16:38.143095Z",
     "start_time": "2024-07-05T17:16:38.138390Z"
    }
   },
   "cell_type": "code",
   "source": "myList5[-4:-1]",
   "id": "648f3b457c579838",
   "outputs": [
    {
     "data": {
      "text/plain": [
       "['c', 'd', 'e']"
      ]
     },
     "execution_count": 38,
     "metadata": {},
     "output_type": "execute_result"
    }
   ],
   "execution_count": 38
  },
  {
   "metadata": {
    "ExecuteTime": {
     "end_time": "2024-07-05T17:17:46.843459Z",
     "start_time": "2024-07-05T17:17:46.838833Z"
    }
   },
   "cell_type": "code",
   "source": [
    "if \"a\" in myList5:\n",
    "    print(\"var\")"
   ],
   "id": "8b7e4e0568eaf7e7",
   "outputs": [
    {
     "name": "stdout",
     "output_type": "stream",
     "text": [
      "var\n"
     ]
    }
   ],
   "execution_count": 39
  },
  {
   "metadata": {
    "ExecuteTime": {
     "end_time": "2024-07-05T17:19:10.328630Z",
     "start_time": "2024-07-05T17:19:10.311613Z"
    }
   },
   "cell_type": "code",
   "source": [
    "if len(myList5) == 6:\n",
    "    print(\"right\")"
   ],
   "id": "4046cd8d443b905",
   "outputs": [
    {
     "name": "stdout",
     "output_type": "stream",
     "text": [
      "right\n"
     ]
    }
   ],
   "execution_count": 42
  },
  {
   "metadata": {
    "ExecuteTime": {
     "end_time": "2024-07-05T17:20:07.816786Z",
     "start_time": "2024-07-05T17:20:07.813261Z"
    }
   },
   "cell_type": "code",
   "source": [
    "list7 = [1,2,3,\"a\",\"b\",\"c\",\"d\",\"e\",\"f\"]\n",
    "list7[0] = \"greyfurt\""
   ],
   "id": "621fbc282e2d1ce4",
   "outputs": [],
   "execution_count": 43
  },
  {
   "metadata": {
    "ExecuteTime": {
     "end_time": "2024-07-05T17:20:10.745689Z",
     "start_time": "2024-07-05T17:20:10.738869Z"
    }
   },
   "cell_type": "code",
   "source": "list7",
   "id": "12263d43f9fb974a",
   "outputs": [
    {
     "data": {
      "text/plain": [
       "['greyfurt', 2, 3, 'a', 'b', 'c', 'd', 'e', 'f']"
      ]
     },
     "execution_count": 44,
     "metadata": {},
     "output_type": "execute_result"
    }
   ],
   "execution_count": 44
  },
  {
   "metadata": {
    "ExecuteTime": {
     "end_time": "2024-07-05T17:20:58.669744Z",
     "start_time": "2024-07-05T17:20:58.665370Z"
    }
   },
   "cell_type": "code",
   "source": "list7[1:3] = [\"at\",\"eşşek\"]",
   "id": "80c451fc8960c1da",
   "outputs": [],
   "execution_count": 45
  },
  {
   "metadata": {
    "ExecuteTime": {
     "end_time": "2024-07-05T17:21:01.853282Z",
     "start_time": "2024-07-05T17:21:01.846853Z"
    }
   },
   "cell_type": "code",
   "source": "list7",
   "id": "70e7474f66d6da4a",
   "outputs": [
    {
     "data": {
      "text/plain": [
       "['greyfurt', 'at', 'eşşek', 'a', 'b', 'c', 'd', 'e', 'f']"
      ]
     },
     "execution_count": 46,
     "metadata": {},
     "output_type": "execute_result"
    }
   ],
   "execution_count": 46
  },
  {
   "metadata": {
    "ExecuteTime": {
     "end_time": "2024-07-05T17:24:52.590951Z",
     "start_time": "2024-07-05T17:24:52.587085Z"
    }
   },
   "cell_type": "code",
   "source": "list7.insert(0,\"kişner\")",
   "id": "2f2188a954938f41",
   "outputs": [],
   "execution_count": 48
  },
  {
   "metadata": {
    "ExecuteTime": {
     "end_time": "2024-07-05T17:24:55.308689Z",
     "start_time": "2024-07-05T17:24:55.301580Z"
    }
   },
   "cell_type": "code",
   "source": "list7",
   "id": "ab5e72411847f7b0",
   "outputs": [
    {
     "data": {
      "text/plain": [
       "['kişner', 'greyfurt', 'at', 'eşşek', 'a', 'b', 'c', 'd', 'e', 'f']"
      ]
     },
     "execution_count": 49,
     "metadata": {},
     "output_type": "execute_result"
    }
   ],
   "execution_count": 49
  },
  {
   "metadata": {
    "ExecuteTime": {
     "end_time": "2024-07-05T17:25:35.343358Z",
     "start_time": "2024-07-05T17:25:35.340425Z"
    }
   },
   "cell_type": "code",
   "source": "list7.insert(3,\"anırır\")",
   "id": "c536272c3be3adf0",
   "outputs": [],
   "execution_count": 50
  },
  {
   "metadata": {
    "ExecuteTime": {
     "end_time": "2024-07-05T17:25:39.438835Z",
     "start_time": "2024-07-05T17:25:39.431950Z"
    }
   },
   "cell_type": "code",
   "source": "list7",
   "id": "72d72d60108bc9ef",
   "outputs": [
    {
     "data": {
      "text/plain": [
       "['kişner', 'greyfurt', 'at', 'anırır', 'eşşek', 'a', 'b', 'c', 'd', 'e', 'f']"
      ]
     },
     "execution_count": 51,
     "metadata": {},
     "output_type": "execute_result"
    }
   ],
   "execution_count": 51
  },
  {
   "metadata": {},
   "cell_type": "code",
   "outputs": [],
   "execution_count": null,
   "source": "",
   "id": "7fb8e36b493c4843"
  }
 ],
 "metadata": {
  "kernelspec": {
   "display_name": "Python 3",
   "language": "python",
   "name": "python3"
  },
  "language_info": {
   "codemirror_mode": {
    "name": "ipython",
    "version": 2
   },
   "file_extension": ".py",
   "mimetype": "text/x-python",
   "name": "python",
   "nbconvert_exporter": "python",
   "pygments_lexer": "ipython2",
   "version": "2.7.6"
  }
 },
 "nbformat": 4,
 "nbformat_minor": 5
}
