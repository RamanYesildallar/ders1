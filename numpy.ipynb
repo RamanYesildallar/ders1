{
 "cells": [
  {
   "cell_type": "code",
   "execution_count": 1,
   "id": "initial_id",
   "metadata": {
    "ExecuteTime": {
     "end_time": "2024-07-12T12:59:51.075003Z",
     "start_time": "2024-07-12T12:59:50.939366Z"
    },
    "collapsed": true,
    "jupyter": {
     "outputs_hidden": true
    }
   },
   "outputs": [],
   "source": [
    "import numpy as np"
   ]
  },
  {
   "cell_type": "code",
   "execution_count": 2,
   "id": "c99158b02f112615",
   "metadata": {
    "ExecuteTime": {
     "end_time": "2024-07-12T13:00:17.616341Z",
     "start_time": "2024-07-12T13:00:17.611885Z"
    }
   },
   "outputs": [],
   "source": [
    "a = np.array([1,2,3,4,5,6,7,8,9,10])\n",
    "b = np.array([1.2,2.2])"
   ]
  },
  {
   "cell_type": "code",
   "execution_count": 5,
   "id": "c7628e75b973f184",
   "metadata": {
    "ExecuteTime": {
     "end_time": "2024-07-12T13:00:53.704455Z",
     "start_time": "2024-07-12T13:00:53.699328Z"
    }
   },
   "outputs": [
    {
     "name": "stdout",
     "output_type": "stream",
     "text": [
      "<class 'numpy.ndarray'>\n",
      "<class 'numpy.ndarray'>\n"
     ]
    }
   ],
   "source": [
    "print(type(a))\n",
    "print(type(b))"
   ]
  },
  {
   "cell_type": "code",
   "execution_count": 8,
   "id": "6c8bd989df19d4d7",
   "metadata": {
    "ExecuteTime": {
     "end_time": "2024-07-12T13:01:14.803563Z",
     "start_time": "2024-07-12T13:01:14.798625Z"
    }
   },
   "outputs": [
    {
     "name": "stdout",
     "output_type": "stream",
     "text": [
      "int32\n",
      "float64\n"
     ]
    }
   ],
   "source": [
    "print(a.dtype)\n",
    "print(b.dtype)"
   ]
  },
  {
   "cell_type": "code",
   "execution_count": 9,
   "id": "6c014dafb38197e0",
   "metadata": {
    "ExecuteTime": {
     "end_time": "2024-07-12T13:01:43.119484Z",
     "start_time": "2024-07-12T13:01:43.102230Z"
    }
   },
   "outputs": [
    {
     "ename": "TypeError",
     "evalue": "array() takes from 1 to 2 positional arguments but 10 were given",
     "output_type": "error",
     "traceback": [
      "\u001b[1;31m---------------------------------------------------------------------------\u001b[0m",
      "\u001b[1;31mTypeError\u001b[0m                                 Traceback (most recent call last)",
      "Cell \u001b[1;32mIn[9], line 1\u001b[0m\n\u001b[1;32m----> 1\u001b[0m a \u001b[38;5;241m=\u001b[39m np\u001b[38;5;241m.\u001b[39marray(\u001b[38;5;241m1\u001b[39m,\u001b[38;5;241m2\u001b[39m,\u001b[38;5;241m3\u001b[39m,\u001b[38;5;241m4\u001b[39m,\u001b[38;5;241m5\u001b[39m,\u001b[38;5;241m6\u001b[39m,\u001b[38;5;241m7\u001b[39m,\u001b[38;5;241m8\u001b[39m,\u001b[38;5;241m9\u001b[39m,\u001b[38;5;241m10\u001b[39m)\n",
      "\u001b[1;31mTypeError\u001b[0m: array() takes from 1 to 2 positional arguments but 10 were given"
     ]
    }
   ],
   "source": [
    "a = np.array(1,2,3,4,5,6,7,8,9,10)"
   ]
  },
  {
   "cell_type": "code",
   "execution_count": 10,
   "id": "aedd5f350042a702",
   "metadata": {
    "ExecuteTime": {
     "end_time": "2024-07-12T13:01:52.561268Z",
     "start_time": "2024-07-12T13:01:52.556206Z"
    }
   },
   "outputs": [],
   "source": [
    "a=np.array([1,2,3,4,5,6,7,8,9,10])"
   ]
  },
  {
   "cell_type": "code",
   "execution_count": 11,
   "id": "ce39dd94817fe31e",
   "metadata": {
    "ExecuteTime": {
     "end_time": "2024-07-12T13:01:54.939291Z",
     "start_time": "2024-07-12T13:01:54.929416Z"
    }
   },
   "outputs": [
    {
     "data": {
      "text/plain": [
       "array([ 1,  2,  3,  4,  5,  6,  7,  8,  9, 10])"
      ]
     },
     "execution_count": 11,
     "metadata": {},
     "output_type": "execute_result"
    }
   ],
   "source": [
    "a"
   ]
  },
  {
   "cell_type": "code",
   "execution_count": 12,
   "id": "6e6aa4a71da98c59",
   "metadata": {
    "ExecuteTime": {
     "end_time": "2024-07-12T13:02:13.548610Z",
     "start_time": "2024-07-12T13:02:13.542725Z"
    }
   },
   "outputs": [
    {
     "data": {
      "text/plain": [
       "1"
      ]
     },
     "execution_count": 12,
     "metadata": {},
     "output_type": "execute_result"
    }
   ],
   "source": [
    "a.ndim"
   ]
  },
  {
   "cell_type": "code",
   "execution_count": 20,
   "id": "9e011f5a9a14c86d",
   "metadata": {
    "ExecuteTime": {
     "end_time": "2024-07-12T13:04:39.206007Z",
     "start_time": "2024-07-12T13:04:39.200167Z"
    }
   },
   "outputs": [],
   "source": [
    "a = np.array([(1,2,3,4,5),(6,7,8,9,10)])"
   ]
  },
  {
   "cell_type": "code",
   "execution_count": 16,
   "id": "7065f75c782ed824",
   "metadata": {
    "ExecuteTime": {
     "end_time": "2024-07-12T13:03:31.603991Z",
     "start_time": "2024-07-12T13:03:31.599875Z"
    }
   },
   "outputs": [],
   "source": [
    "b = np.array([(1.5, 2, 3), (4, 5, 6)])\n"
   ]
  },
  {
   "cell_type": "code",
   "execution_count": 17,
   "id": "d7cc55a31f8e7e3c",
   "metadata": {
    "ExecuteTime": {
     "end_time": "2024-07-12T13:03:41.876457Z",
     "start_time": "2024-07-12T13:03:41.870867Z"
    }
   },
   "outputs": [
    {
     "data": {
      "text/plain": [
       "array([[1.5, 2. , 3. ],\n",
       "       [4. , 5. , 6. ]])"
      ]
     },
     "execution_count": 17,
     "metadata": {},
     "output_type": "execute_result"
    }
   ],
   "source": []
  },
  {
   "cell_type": "code",
   "execution_count": 22,
   "id": "edbd678338c1056e",
   "metadata": {
    "ExecuteTime": {
     "end_time": "2024-07-12T13:04:58.627958Z",
     "start_time": "2024-07-12T13:04:58.620698Z"
    }
   },
   "outputs": [
    {
     "data": {
      "text/plain": [
       "array([ 6,  7,  8,  9, 10])"
      ]
     },
     "execution_count": 22,
     "metadata": {},
     "output_type": "execute_result"
    }
   ],
   "source": [
    "a[0]\n",
    "a[1]"
   ]
  },
  {
   "cell_type": "code",
   "execution_count": 23,
   "id": "542bd5328af09053",
   "metadata": {
    "ExecuteTime": {
     "end_time": "2024-07-12T13:05:22.908468Z",
     "start_time": "2024-07-12T13:05:22.901191Z"
    }
   },
   "outputs": [
    {
     "data": {
      "text/plain": [
       "dtype('int32')"
      ]
     },
     "execution_count": 23,
     "metadata": {},
     "output_type": "execute_result"
    }
   ],
   "source": [
    "a.dtype"
   ]
  },
  {
   "cell_type": "code",
   "execution_count": 24,
   "id": "fc1cc4b7921c3be4",
   "metadata": {
    "ExecuteTime": {
     "end_time": "2024-07-12T13:05:29.498595Z",
     "start_time": "2024-07-12T13:05:29.492973Z"
    }
   },
   "outputs": [
    {
     "data": {
      "text/plain": [
       "numpy.ndarray"
      ]
     },
     "execution_count": 24,
     "metadata": {},
     "output_type": "execute_result"
    }
   ],
   "source": [
    "type(a)"
   ]
  },
  {
   "cell_type": "code",
   "execution_count": 25,
   "id": "e742885e6c7340e1",
   "metadata": {
    "ExecuteTime": {
     "end_time": "2024-07-12T13:05:56.779999Z",
     "start_time": "2024-07-12T13:05:56.774656Z"
    }
   },
   "outputs": [],
   "source": [
    "a = np.array([[1,2,3,4,5],[6,7,8,9,10]])"
   ]
  },
  {
   "cell_type": "code",
   "execution_count": 26,
   "id": "508a633f239110a",
   "metadata": {
    "ExecuteTime": {
     "end_time": "2024-07-12T13:05:59.161966Z",
     "start_time": "2024-07-12T13:05:59.154532Z"
    }
   },
   "outputs": [
    {
     "data": {
      "text/plain": [
       "array([[ 1,  2,  3,  4,  5],\n",
       "       [ 6,  7,  8,  9, 10]])"
      ]
     },
     "execution_count": 26,
     "metadata": {},
     "output_type": "execute_result"
    }
   ],
   "source": [
    "a"
   ]
  },
  {
   "cell_type": "code",
   "execution_count": 27,
   "id": "49db055b3dae632f",
   "metadata": {
    "ExecuteTime": {
     "end_time": "2024-07-12T13:06:03.620521Z",
     "start_time": "2024-07-12T13:06:03.614092Z"
    }
   },
   "outputs": [
    {
     "data": {
      "text/plain": [
       "dtype('int32')"
      ]
     },
     "execution_count": 27,
     "metadata": {},
     "output_type": "execute_result"
    }
   ],
   "source": [
    "a.dtype"
   ]
  },
  {
   "cell_type": "code",
   "execution_count": 28,
   "id": "d52dcfbffb13a744",
   "metadata": {
    "ExecuteTime": {
     "end_time": "2024-07-12T13:06:24.823415Z",
     "start_time": "2024-07-12T13:06:24.817485Z"
    }
   },
   "outputs": [],
   "source": [
    "a = np.array([[1,2,3,4,5],[6,7,8,9,10]],dtype=complex)"
   ]
  },
  {
   "cell_type": "code",
   "execution_count": 29,
   "id": "f7a977ae5b4146c8",
   "metadata": {
    "ExecuteTime": {
     "end_time": "2024-07-12T13:06:25.882601Z",
     "start_time": "2024-07-12T13:06:25.877344Z"
    }
   },
   "outputs": [
    {
     "data": {
      "text/plain": [
       "array([[ 1.+0.j,  2.+0.j,  3.+0.j,  4.+0.j,  5.+0.j],\n",
       "       [ 6.+0.j,  7.+0.j,  8.+0.j,  9.+0.j, 10.+0.j]])"
      ]
     },
     "execution_count": 29,
     "metadata": {},
     "output_type": "execute_result"
    }
   ],
   "source": [
    "a"
   ]
  },
  {
   "cell_type": "code",
   "execution_count": 34,
   "id": "f4aa6399feb66ea6",
   "metadata": {
    "ExecuteTime": {
     "end_time": "2024-07-12T13:08:34.356914Z",
     "start_time": "2024-07-12T13:08:34.351854Z"
    }
   },
   "outputs": [],
   "source": [
    "a =np.zeros((3,4))"
   ]
  },
  {
   "cell_type": "code",
   "execution_count": 35,
   "id": "5516d9bfe0306335",
   "metadata": {
    "ExecuteTime": {
     "end_time": "2024-07-12T13:08:37.021713Z",
     "start_time": "2024-07-12T13:08:37.014577Z"
    }
   },
   "outputs": [
    {
     "data": {
      "text/plain": [
       "array([[0., 0., 0., 0.],\n",
       "       [0., 0., 0., 0.],\n",
       "       [0., 0., 0., 0.]])"
      ]
     },
     "execution_count": 35,
     "metadata": {},
     "output_type": "execute_result"
    }
   ],
   "source": [
    "a"
   ]
  },
  {
   "cell_type": "code",
   "execution_count": 36,
   "id": "6000033c72868244",
   "metadata": {
    "ExecuteTime": {
     "end_time": "2024-07-12T13:08:40.640290Z",
     "start_time": "2024-07-12T13:08:40.633673Z"
    }
   },
   "outputs": [
    {
     "data": {
      "text/plain": [
       "dtype('float64')"
      ]
     },
     "execution_count": 36,
     "metadata": {},
     "output_type": "execute_result"
    }
   ],
   "source": [
    "a.dtype"
   ]
  },
  {
   "cell_type": "code",
   "execution_count": 37,
   "id": "a763b5971a52cdb0",
   "metadata": {
    "ExecuteTime": {
     "end_time": "2024-07-12T13:08:44.841883Z",
     "start_time": "2024-07-12T13:08:44.837038Z"
    }
   },
   "outputs": [
    {
     "data": {
      "text/plain": [
       "2"
      ]
     },
     "execution_count": 37,
     "metadata": {},
     "output_type": "execute_result"
    }
   ],
   "source": [
    "a.ndim"
   ]
  },
  {
   "cell_type": "code",
   "execution_count": 38,
   "id": "7b8a9a9e68905a0b",
   "metadata": {
    "ExecuteTime": {
     "end_time": "2024-07-12T13:09:23.277034Z",
     "start_time": "2024-07-12T13:09:23.272277Z"
    }
   },
   "outputs": [],
   "source": [
    "b = np.ones((2,3,4),dtype=float)"
   ]
  },
  {
   "cell_type": "code",
   "execution_count": 39,
   "id": "d12a97aca931f763",
   "metadata": {
    "ExecuteTime": {
     "end_time": "2024-07-12T13:09:24.870746Z",
     "start_time": "2024-07-12T13:09:24.862910Z"
    }
   },
   "outputs": [
    {
     "data": {
      "text/plain": [
       "array([[[1., 1., 1., 1.],\n",
       "        [1., 1., 1., 1.],\n",
       "        [1., 1., 1., 1.]],\n",
       "\n",
       "       [[1., 1., 1., 1.],\n",
       "        [1., 1., 1., 1.],\n",
       "        [1., 1., 1., 1.]]])"
      ]
     },
     "execution_count": 39,
     "metadata": {},
     "output_type": "execute_result"
    }
   ],
   "source": [
    "b"
   ]
  },
  {
   "cell_type": "code",
   "execution_count": 40,
   "id": "a06075dd6be8ceba",
   "metadata": {
    "ExecuteTime": {
     "end_time": "2024-07-12T13:09:29.483018Z",
     "start_time": "2024-07-12T13:09:29.478813Z"
    }
   },
   "outputs": [
    {
     "data": {
      "text/plain": [
       "3"
      ]
     },
     "execution_count": 40,
     "metadata": {},
     "output_type": "execute_result"
    }
   ],
   "source": [
    "b.ndim"
   ]
  },
  {
   "cell_type": "code",
   "execution_count": 43,
   "id": "b876ec426dcb87f7",
   "metadata": {
    "ExecuteTime": {
     "end_time": "2024-07-12T13:10:36.336531Z",
     "start_time": "2024-07-12T13:10:36.332685Z"
    }
   },
   "outputs": [],
   "source": [
    "b = np.ones((3,3,4),dtype=float)"
   ]
  },
  {
   "cell_type": "code",
   "execution_count": 44,
   "id": "ff32c4e7005d69fc",
   "metadata": {
    "ExecuteTime": {
     "end_time": "2024-07-12T13:10:36.992785Z",
     "start_time": "2024-07-12T13:10:36.986685Z"
    }
   },
   "outputs": [
    {
     "data": {
      "text/plain": [
       "array([[[1., 1., 1., 1.],\n",
       "        [1., 1., 1., 1.],\n",
       "        [1., 1., 1., 1.]],\n",
       "\n",
       "       [[1., 1., 1., 1.],\n",
       "        [1., 1., 1., 1.],\n",
       "        [1., 1., 1., 1.]],\n",
       "\n",
       "       [[1., 1., 1., 1.],\n",
       "        [1., 1., 1., 1.],\n",
       "        [1., 1., 1., 1.]]])"
      ]
     },
     "execution_count": 44,
     "metadata": {},
     "output_type": "execute_result"
    }
   ],
   "source": [
    "b"
   ]
  },
  {
   "cell_type": "code",
   "execution_count": 45,
   "id": "1d03012751eddca2",
   "metadata": {
    "ExecuteTime": {
     "end_time": "2024-07-12T13:10:47.279471Z",
     "start_time": "2024-07-12T13:10:47.273225Z"
    }
   },
   "outputs": [
    {
     "data": {
      "text/plain": [
       "3"
      ]
     },
     "execution_count": 45,
     "metadata": {},
     "output_type": "execute_result"
    }
   ],
   "source": [
    "b.ndim"
   ]
  },
  {
   "cell_type": "code",
   "execution_count": 46,
   "id": "1794afd2180def08",
   "metadata": {
    "ExecuteTime": {
     "end_time": "2024-07-12T13:11:04.367350Z",
     "start_time": "2024-07-12T13:11:04.361740Z"
    }
   },
   "outputs": [],
   "source": [
    "b = np.ones((3,4,4),dtype=float)"
   ]
  },
  {
   "cell_type": "code",
   "execution_count": 47,
   "id": "1e2062802ac620c8",
   "metadata": {
    "ExecuteTime": {
     "end_time": "2024-07-12T13:11:06.756212Z",
     "start_time": "2024-07-12T13:11:06.749830Z"
    }
   },
   "outputs": [
    {
     "data": {
      "text/plain": [
       "array([[[1., 1., 1., 1.],\n",
       "        [1., 1., 1., 1.],\n",
       "        [1., 1., 1., 1.],\n",
       "        [1., 1., 1., 1.]],\n",
       "\n",
       "       [[1., 1., 1., 1.],\n",
       "        [1., 1., 1., 1.],\n",
       "        [1., 1., 1., 1.],\n",
       "        [1., 1., 1., 1.]],\n",
       "\n",
       "       [[1., 1., 1., 1.],\n",
       "        [1., 1., 1., 1.],\n",
       "        [1., 1., 1., 1.],\n",
       "        [1., 1., 1., 1.]]])"
      ]
     },
     "execution_count": 47,
     "metadata": {},
     "output_type": "execute_result"
    }
   ],
   "source": [
    "b"
   ]
  },
  {
   "cell_type": "code",
   "execution_count": 48,
   "id": "73562212169b3f06",
   "metadata": {
    "ExecuteTime": {
     "end_time": "2024-07-12T13:11:11.531796Z",
     "start_time": "2024-07-12T13:11:11.525754Z"
    }
   },
   "outputs": [
    {
     "data": {
      "text/plain": [
       "3"
      ]
     },
     "execution_count": 48,
     "metadata": {},
     "output_type": "execute_result"
    }
   ],
   "source": [
    "b.ndim"
   ]
  },
  {
   "cell_type": "code",
   "execution_count": 54,
   "id": "865f0476a6b77695",
   "metadata": {
    "ExecuteTime": {
     "end_time": "2024-07-12T13:13:16.923845Z",
     "start_time": "2024-07-12T13:13:16.920122Z"
    }
   },
   "outputs": [],
   "source": [
    "b = np.ones((2,3,4,4),dtype=float)"
   ]
  },
  {
   "cell_type": "code",
   "execution_count": 55,
   "id": "1c3a4ab1c0913d58",
   "metadata": {
    "ExecuteTime": {
     "end_time": "2024-07-12T13:13:18.102806Z",
     "start_time": "2024-07-12T13:13:18.095348Z"
    }
   },
   "outputs": [
    {
     "data": {
      "text/plain": [
       "array([[[[1., 1., 1., 1.],\n",
       "         [1., 1., 1., 1.],\n",
       "         [1., 1., 1., 1.],\n",
       "         [1., 1., 1., 1.]],\n",
       "\n",
       "        [[1., 1., 1., 1.],\n",
       "         [1., 1., 1., 1.],\n",
       "         [1., 1., 1., 1.],\n",
       "         [1., 1., 1., 1.]],\n",
       "\n",
       "        [[1., 1., 1., 1.],\n",
       "         [1., 1., 1., 1.],\n",
       "         [1., 1., 1., 1.],\n",
       "         [1., 1., 1., 1.]]],\n",
       "\n",
       "\n",
       "       [[[1., 1., 1., 1.],\n",
       "         [1., 1., 1., 1.],\n",
       "         [1., 1., 1., 1.],\n",
       "         [1., 1., 1., 1.]],\n",
       "\n",
       "        [[1., 1., 1., 1.],\n",
       "         [1., 1., 1., 1.],\n",
       "         [1., 1., 1., 1.],\n",
       "         [1., 1., 1., 1.]],\n",
       "\n",
       "        [[1., 1., 1., 1.],\n",
       "         [1., 1., 1., 1.],\n",
       "         [1., 1., 1., 1.],\n",
       "         [1., 1., 1., 1.]]]])"
      ]
     },
     "execution_count": 55,
     "metadata": {},
     "output_type": "execute_result"
    }
   ],
   "source": [
    "b"
   ]
  },
  {
   "cell_type": "code",
   "execution_count": 56,
   "id": "56b67b08469cae29",
   "metadata": {
    "ExecuteTime": {
     "end_time": "2024-07-12T13:13:56.679844Z",
     "start_time": "2024-07-12T13:13:56.673662Z"
    }
   },
   "outputs": [
    {
     "data": {
      "text/plain": [
       "4"
      ]
     },
     "execution_count": 56,
     "metadata": {},
     "output_type": "execute_result"
    }
   ],
   "source": [
    "b.ndim"
   ]
  },
  {
   "cell_type": "markdown",
   "id": "d5856e5d507badc0",
   "metadata": {},
   "source": [
    "4 boyutlu bir dizi oluşturmak için np.ones fonksiyonuna 4 boyutlu bir şekil (boyutlar dizisi) belirtmelisiniz. Örneğin, (2, 3, 4, 5) şeklinde bir boyut belirtmek, 4 boyutlu bir dizi oluşturur.\n",
    "\n",
    "Bu boyutlar şu anlama gelir:\n",
    "\n",
    "İlk boyut: 2, yani 2 tane 3 boyutlu tensör içerir.\n",
    "İkinci boyut: 3, yani her tensör 3 tane 2 boyutlu matris içerir.\n",
    "Üçüncü boyut: 4, yani her matris 4 satıra sahiptir.\n",
    "Dördüncü boyut: 5, yani her satırda 5 sütun vardır."
   ]
  },
  {
   "cell_type": "code",
   "execution_count": 57,
   "id": "f5f7e6b9092db930",
   "metadata": {
    "ExecuteTime": {
     "end_time": "2024-07-12T13:19:01.733656Z",
     "start_time": "2024-07-12T13:19:01.726795Z"
    }
   },
   "outputs": [
    {
     "data": {
      "text/plain": [
       "array([[7.74860419e-304, 7.74860419e-304, 7.74860419e-304],\n",
       "       [7.74860419e-304, 7.74860419e-304, 7.74860419e-304]])"
      ]
     },
     "execution_count": 57,
     "metadata": {},
     "output_type": "execute_result"
    }
   ],
   "source": [
    "np.empty((2,3))"
   ]
  },
  {
   "cell_type": "code",
   "execution_count": 58,
   "id": "36be75eade43ab2a",
   "metadata": {
    "ExecuteTime": {
     "end_time": "2024-07-12T13:20:04.031266Z",
     "start_time": "2024-07-12T13:20:04.026598Z"
    }
   },
   "outputs": [],
   "source": [
    "x = np.arange(2,30)"
   ]
  },
  {
   "cell_type": "code",
   "execution_count": 59,
   "id": "ed092de3c2b0201d",
   "metadata": {
    "ExecuteTime": {
     "end_time": "2024-07-12T13:20:05.568303Z",
     "start_time": "2024-07-12T13:20:05.562262Z"
    }
   },
   "outputs": [
    {
     "data": {
      "text/plain": [
       "array([ 2,  3,  4,  5,  6,  7,  8,  9, 10, 11, 12, 13, 14, 15, 16, 17, 18,\n",
       "       19, 20, 21, 22, 23, 24, 25, 26, 27, 28, 29])"
      ]
     },
     "execution_count": 59,
     "metadata": {},
     "output_type": "execute_result"
    }
   ],
   "source": [
    "x"
   ]
  },
  {
   "cell_type": "code",
   "execution_count": 60,
   "id": "4b483f0aba17cba4",
   "metadata": {
    "ExecuteTime": {
     "end_time": "2024-07-12T13:20:15.696700Z",
     "start_time": "2024-07-12T13:20:15.690277Z"
    }
   },
   "outputs": [
    {
     "data": {
      "text/plain": [
       "array([ 0,  5, 10, 15, 20, 25])"
      ]
     },
     "execution_count": 60,
     "metadata": {},
     "output_type": "execute_result"
    }
   ],
   "source": [
    "np.arange(0,30,5)"
   ]
  },
  {
   "cell_type": "code",
   "execution_count": 61,
   "id": "137e8c1c9dff3eba",
   "metadata": {
    "ExecuteTime": {
     "end_time": "2024-07-12T13:21:00.875118Z",
     "start_time": "2024-07-12T13:21:00.869237Z"
    }
   },
   "outputs": [
    {
     "data": {
      "text/plain": [
       "array([0.  , 0.25, 0.5 , 0.75, 1.  , 1.25, 1.5 , 1.75, 2.  ])"
      ]
     },
     "execution_count": 61,
     "metadata": {},
     "output_type": "execute_result"
    }
   ],
   "source": [
    "np.linspace(0,2,9)"
   ]
  },
  {
   "cell_type": "code",
   "execution_count": 62,
   "id": "878d3bdf546300a",
   "metadata": {
    "ExecuteTime": {
     "end_time": "2024-07-12T13:21:13.894540Z",
     "start_time": "2024-07-12T13:21:13.887835Z"
    }
   },
   "outputs": [
    {
     "data": {
      "text/plain": [
       "array([0.        , 0.24740396, 0.47942554, 0.68163876, 0.84147098,\n",
       "       0.94898462, 0.99749499, 0.98398595, 0.90929743])"
      ]
     },
     "execution_count": 62,
     "metadata": {},
     "output_type": "execute_result"
    }
   ],
   "source": [
    "np.sin(np.linspace(0,2,9))"
   ]
  },
  {
   "cell_type": "code",
   "execution_count": 63,
   "id": "a88af1a420ffc16d",
   "metadata": {
    "ExecuteTime": {
     "end_time": "2024-07-12T13:22:00.310178Z",
     "start_time": "2024-07-12T13:22:00.305453Z"
    }
   },
   "outputs": [],
   "source": [
    "x = np.array((1,2,3,4,5,6))"
   ]
  },
  {
   "cell_type": "code",
   "execution_count": 64,
   "id": "fc6772a90c227581",
   "metadata": {
    "ExecuteTime": {
     "end_time": "2024-07-12T13:22:01.915174Z",
     "start_time": "2024-07-12T13:22:01.908824Z"
    }
   },
   "outputs": [
    {
     "data": {
      "text/plain": [
       "array([1, 2, 3, 4, 5, 6])"
      ]
     },
     "execution_count": 64,
     "metadata": {},
     "output_type": "execute_result"
    }
   ],
   "source": [
    "x"
   ]
  },
  {
   "cell_type": "code",
   "execution_count": 65,
   "id": "76bf7b0b987a6fa2",
   "metadata": {
    "ExecuteTime": {
     "end_time": "2024-07-12T13:22:05.662288Z",
     "start_time": "2024-07-12T13:22:05.656698Z"
    }
   },
   "outputs": [
    {
     "data": {
      "text/plain": [
       "1"
      ]
     },
     "execution_count": 65,
     "metadata": {},
     "output_type": "execute_result"
    }
   ],
   "source": [
    "x.ndim"
   ]
  },
  {
   "cell_type": "code",
   "execution_count": 68,
   "id": "f82a1182d0c617bb",
   "metadata": {
    "ExecuteTime": {
     "end_time": "2024-07-12T13:22:29.720557Z",
     "start_time": "2024-07-12T13:22:29.715955Z"
    }
   },
   "outputs": [],
   "source": [
    "x2=x.reshape(3,2)"
   ]
  },
  {
   "cell_type": "code",
   "execution_count": 69,
   "id": "b5df4ea9bf8095f",
   "metadata": {
    "ExecuteTime": {
     "end_time": "2024-07-12T13:22:33.640129Z",
     "start_time": "2024-07-12T13:22:33.634277Z"
    }
   },
   "outputs": [
    {
     "data": {
      "text/plain": [
       "2"
      ]
     },
     "execution_count": 69,
     "metadata": {},
     "output_type": "execute_result"
    }
   ],
   "source": [
    "x2.ndim"
   ]
  },
  {
   "cell_type": "code",
   "execution_count": 70,
   "id": "da26edf31021e354",
   "metadata": {
    "ExecuteTime": {
     "end_time": "2024-07-12T13:23:02.265606Z",
     "start_time": "2024-07-12T13:23:02.262038Z"
    }
   },
   "outputs": [],
   "source": [
    "x = np.arange(0,24)"
   ]
  },
  {
   "cell_type": "code",
   "execution_count": 71,
   "id": "7d4ca92ca965e0c2",
   "metadata": {
    "ExecuteTime": {
     "end_time": "2024-07-12T13:23:05.244726Z",
     "start_time": "2024-07-12T13:23:05.237722Z"
    }
   },
   "outputs": [
    {
     "data": {
      "text/plain": [
       "1"
      ]
     },
     "execution_count": 71,
     "metadata": {},
     "output_type": "execute_result"
    }
   ],
   "source": [
    "x.ndim"
   ]
  },
  {
   "cell_type": "code",
   "execution_count": 73,
   "id": "e0194d19e115798a",
   "metadata": {
    "ExecuteTime": {
     "end_time": "2024-07-12T13:23:20.152672Z",
     "start_time": "2024-07-12T13:23:20.148059Z"
    }
   },
   "outputs": [],
   "source": [
    "x2=x.reshape(2,3,4)"
   ]
  },
  {
   "cell_type": "code",
   "execution_count": 74,
   "id": "8f9bf21996fab01c",
   "metadata": {
    "ExecuteTime": {
     "end_time": "2024-07-12T13:23:22.714790Z",
     "start_time": "2024-07-12T13:23:22.708581Z"
    }
   },
   "outputs": [
    {
     "data": {
      "text/plain": [
       "array([[[ 0,  1,  2,  3],\n",
       "        [ 4,  5,  6,  7],\n",
       "        [ 8,  9, 10, 11]],\n",
       "\n",
       "       [[12, 13, 14, 15],\n",
       "        [16, 17, 18, 19],\n",
       "        [20, 21, 22, 23]]])"
      ]
     },
     "execution_count": 74,
     "metadata": {},
     "output_type": "execute_result"
    }
   ],
   "source": [
    "x2"
   ]
  },
  {
   "cell_type": "code",
   "execution_count": 75,
   "id": "544f0ecd7a3e7d4c",
   "metadata": {
    "ExecuteTime": {
     "end_time": "2024-07-12T13:23:39.646341Z",
     "start_time": "2024-07-12T13:23:39.638685Z"
    }
   },
   "outputs": [
    {
     "data": {
      "text/plain": [
       "3"
      ]
     },
     "execution_count": 75,
     "metadata": {},
     "output_type": "execute_result"
    }
   ],
   "source": [
    "x2.ndim"
   ]
  },
  {
   "cell_type": "code",
   "execution_count": 76,
   "id": "ece3d252ec4739d5",
   "metadata": {
    "ExecuteTime": {
     "end_time": "2024-07-12T13:24:14.182446Z",
     "start_time": "2024-07-12T13:24:14.178322Z"
    }
   },
   "outputs": [],
   "source": [
    "x = np.arange(0,100)"
   ]
  },
  {
   "cell_type": "code",
   "execution_count": 77,
   "id": "d9cb9ef1032534e2",
   "metadata": {
    "ExecuteTime": {
     "end_time": "2024-07-12T13:24:15.225475Z",
     "start_time": "2024-07-12T13:24:15.218922Z"
    }
   },
   "outputs": [
    {
     "data": {
      "text/plain": [
       "array([ 0,  1,  2,  3,  4,  5,  6,  7,  8,  9, 10, 11, 12, 13, 14, 15, 16,\n",
       "       17, 18, 19, 20, 21, 22, 23, 24, 25, 26, 27, 28, 29, 30, 31, 32, 33,\n",
       "       34, 35, 36, 37, 38, 39, 40, 41, 42, 43, 44, 45, 46, 47, 48, 49, 50,\n",
       "       51, 52, 53, 54, 55, 56, 57, 58, 59, 60, 61, 62, 63, 64, 65, 66, 67,\n",
       "       68, 69, 70, 71, 72, 73, 74, 75, 76, 77, 78, 79, 80, 81, 82, 83, 84,\n",
       "       85, 86, 87, 88, 89, 90, 91, 92, 93, 94, 95, 96, 97, 98, 99])"
      ]
     },
     "execution_count": 77,
     "metadata": {},
     "output_type": "execute_result"
    }
   ],
   "source": [
    "x"
   ]
  },
  {
   "cell_type": "code",
   "execution_count": 78,
   "id": "f25ccec9dcccb185",
   "metadata": {
    "ExecuteTime": {
     "end_time": "2024-07-12T13:24:58.339712Z",
     "start_time": "2024-07-12T13:24:58.333823Z"
    }
   },
   "outputs": [],
   "source": [
    "import  sys\n",
    "np.set_printoptions(threshold=sys.maxsize)  # sys module should be imported To disable this behaviour and force NumPy to print the entire array, you can change the printing options using set_printoptions."
   ]
  },
  {
   "cell_type": "code",
   "execution_count": 79,
   "id": "ddb8a02b6cbad29f",
   "metadata": {
    "ExecuteTime": {
     "end_time": "2024-07-12T13:26:06.848784Z",
     "start_time": "2024-07-12T13:26:06.844154Z"
    }
   },
   "outputs": [],
   "source": [
    "a = np.array([10,20,30,40])\n",
    "b =np.arange(4)"
   ]
  },
  {
   "cell_type": "code",
   "execution_count": 80,
   "id": "b578fea27e12b953",
   "metadata": {
    "ExecuteTime": {
     "end_time": "2024-07-12T13:26:08.679336Z",
     "start_time": "2024-07-12T13:26:08.673973Z"
    }
   },
   "outputs": [
    {
     "data": {
      "text/plain": [
       "array([10, 20, 30, 40])"
      ]
     },
     "execution_count": 80,
     "metadata": {},
     "output_type": "execute_result"
    }
   ],
   "source": [
    "a"
   ]
  },
  {
   "cell_type": "code",
   "execution_count": 81,
   "id": "bf3370a07bac877f",
   "metadata": {
    "ExecuteTime": {
     "end_time": "2024-07-12T13:26:11.899851Z",
     "start_time": "2024-07-12T13:26:11.893310Z"
    }
   },
   "outputs": [
    {
     "data": {
      "text/plain": [
       "array([0, 1, 2, 3])"
      ]
     },
     "execution_count": 81,
     "metadata": {},
     "output_type": "execute_result"
    }
   ],
   "source": [
    "b"
   ]
  },
  {
   "cell_type": "code",
   "execution_count": 82,
   "id": "b9b18495386617f7",
   "metadata": {
    "ExecuteTime": {
     "end_time": "2024-07-12T13:26:15.825030Z",
     "start_time": "2024-07-12T13:26:15.819027Z"
    }
   },
   "outputs": [
    {
     "data": {
      "text/plain": [
       "array([10, 19, 28, 37])"
      ]
     },
     "execution_count": 82,
     "metadata": {},
     "output_type": "execute_result"
    }
   ],
   "source": [
    "a-b"
   ]
  },
  {
   "cell_type": "code",
   "execution_count": 83,
   "id": "ce9808bbf31b80d1",
   "metadata": {
    "ExecuteTime": {
     "end_time": "2024-07-12T13:26:18.288503Z",
     "start_time": "2024-07-12T13:26:18.281211Z"
    }
   },
   "outputs": [
    {
     "data": {
      "text/plain": [
       "array([10, 21, 32, 43])"
      ]
     },
     "execution_count": 83,
     "metadata": {},
     "output_type": "execute_result"
    }
   ],
   "source": [
    "a+b"
   ]
  },
  {
   "cell_type": "code",
   "execution_count": 85,
   "id": "c6f0113c325a12a5",
   "metadata": {
    "ExecuteTime": {
     "end_time": "2024-07-12T13:26:25.985333Z",
     "start_time": "2024-07-12T13:26:25.978057Z"
    }
   },
   "outputs": [
    {
     "data": {
      "text/plain": [
       "array([  0,  20,  60, 120])"
      ]
     },
     "execution_count": 85,
     "metadata": {},
     "output_type": "execute_result"
    }
   ],
   "source": [
    "a*b"
   ]
  },
  {
   "cell_type": "code",
   "execution_count": 86,
   "id": "de26e7f55abd940b",
   "metadata": {
    "ExecuteTime": {
     "end_time": "2024-07-12T13:26:31.214337Z",
     "start_time": "2024-07-12T13:26:31.207735Z"
    }
   },
   "outputs": [
    {
     "name": "stderr",
     "output_type": "stream",
     "text": [
      "C:\\Users\\rayes\\AppData\\Local\\Temp\\ipykernel_26384\\3318604225.py:1: RuntimeWarning: divide by zero encountered in divide\n",
      "  a/b\n"
     ]
    },
    {
     "data": {
      "text/plain": [
       "array([        inf, 20.        , 15.        , 13.33333333])"
      ]
     },
     "execution_count": 86,
     "metadata": {},
     "output_type": "execute_result"
    }
   ],
   "source": [
    "a/b"
   ]
  },
  {
   "cell_type": "code",
   "execution_count": null,
   "id": "f5e0618c6ce40525",
   "metadata": {},
   "outputs": [],
   "source": [
    "import numpy as np\n",
    "\n",
    "a = np.array([1, 2, 3])\n",
    "b = np.array([1, 0, 2])  # İkinci eleman sıfır\n",
    "\n",
    "# Bölme işlemi yapmadan önce bölenin sıfır olup olmadığını kontrol et\n",
    "with np.errstate(divide='ignore', invalid='ignore'):\n",
    "    result = np.where(b == 0, np.inf, a / b)  # Bölen sıfırsa sonucu sonsuz olarak ayarla\n",
    "\n",
    "print(result)\n"
   ]
  },
  {
   "cell_type": "code",
   "execution_count": 102,
   "id": "68c37e0267f3919d",
   "metadata": {
    "ExecuteTime": {
     "end_time": "2024-07-12T13:33:56.873837Z",
     "start_time": "2024-07-12T13:33:56.869173Z"
    }
   },
   "outputs": [],
   "source": [
    "a = np.array([[5,10,11],[24,25,26]])"
   ]
  },
  {
   "cell_type": "code",
   "execution_count": 103,
   "id": "ef8638a5b962c06f",
   "metadata": {
    "ExecuteTime": {
     "end_time": "2024-07-12T13:33:57.134232Z",
     "start_time": "2024-07-12T13:33:57.129457Z"
    }
   },
   "outputs": [
    {
     "data": {
      "text/plain": [
       "(2, 3)"
      ]
     },
     "execution_count": 103,
     "metadata": {},
     "output_type": "execute_result"
    }
   ],
   "source": [
    "a.shape"
   ]
  },
  {
   "cell_type": "code",
   "execution_count": 104,
   "id": "caff905917ae5f57",
   "metadata": {
    "ExecuteTime": {
     "end_time": "2024-07-12T13:33:57.344959Z",
     "start_time": "2024-07-12T13:33:57.341626Z"
    }
   },
   "outputs": [],
   "source": [
    "b=np.array([[10,11],[25,26],[2,3]])"
   ]
  },
  {
   "cell_type": "code",
   "execution_count": 105,
   "id": "4568c8776d8a31f4",
   "metadata": {
    "ExecuteTime": {
     "end_time": "2024-07-12T13:33:57.594852Z",
     "start_time": "2024-07-12T13:33:57.589818Z"
    }
   },
   "outputs": [
    {
     "data": {
      "text/plain": [
       "(3, 2)"
      ]
     },
     "execution_count": 105,
     "metadata": {},
     "output_type": "execute_result"
    }
   ],
   "source": [
    "b.shape"
   ]
  },
  {
   "cell_type": "code",
   "execution_count": 106,
   "id": "8cf1dd037de999e9",
   "metadata": {
    "ExecuteTime": {
     "end_time": "2024-07-12T13:33:57.920171Z",
     "start_time": "2024-07-12T13:33:57.901350Z"
    }
   },
   "outputs": [
    {
     "ename": "ValueError",
     "evalue": "operands could not be broadcast together with shapes (2,3) (3,2) ",
     "output_type": "error",
     "traceback": [
      "\u001b[1;31m---------------------------------------------------------------------------\u001b[0m",
      "\u001b[1;31mValueError\u001b[0m                                Traceback (most recent call last)",
      "Cell \u001b[1;32mIn[106], line 1\u001b[0m\n\u001b[1;32m----> 1\u001b[0m a\u001b[38;5;241m*\u001b[39mb\n",
      "\u001b[1;31mValueError\u001b[0m: operands could not be broadcast together with shapes (2,3) (3,2) "
     ]
    }
   ],
   "source": [
    "a*b"
   ]
  },
  {
   "cell_type": "code",
   "execution_count": 107,
   "id": "3a449dd2cdceb886",
   "metadata": {
    "ExecuteTime": {
     "end_time": "2024-07-12T13:33:58.922856Z",
     "start_time": "2024-07-12T13:33:58.916763Z"
    }
   },
   "outputs": [
    {
     "data": {
      "text/plain": [
       "array([[314, 375, 396],\n",
       "       [749, 900, 951],\n",
       "       [ 82,  95, 100]])"
      ]
     },
     "execution_count": 107,
     "metadata": {},
     "output_type": "execute_result"
    }
   ],
   "source": [
    "b@a"
   ]
  },
  {
   "cell_type": "code",
   "execution_count": 119,
   "id": "43b461a0b388ee55",
   "metadata": {
    "ExecuteTime": {
     "end_time": "2024-07-12T13:36:14.409641Z",
     "start_time": "2024-07-12T13:36:14.405804Z"
    }
   },
   "outputs": [],
   "source": [
    "a = np.arange(10).reshape(5,2)"
   ]
  },
  {
   "cell_type": "code",
   "execution_count": 125,
   "id": "71aad3fea466d8c8",
   "metadata": {
    "ExecuteTime": {
     "end_time": "2024-07-12T13:37:16.834422Z",
     "start_time": "2024-07-12T13:37:16.830081Z"
    }
   },
   "outputs": [],
   "source": [
    "b = np.arange(24).reshape(2,12)"
   ]
  },
  {
   "cell_type": "code",
   "execution_count": 111,
   "id": "24aa6e591f0d7444",
   "metadata": {
    "ExecuteTime": {
     "end_time": "2024-07-12T13:35:13.813433Z",
     "start_time": "2024-07-12T13:35:13.800745Z"
    }
   },
   "outputs": [
    {
     "ename": "ValueError",
     "evalue": "matmul: Input operand 1 has a mismatch in its core dimension 0, with gufunc signature (n?,k),(k,m?)->(n?,m?) (size 12 is different from 2)",
     "output_type": "error",
     "traceback": [
      "\u001b[1;31m---------------------------------------------------------------------------\u001b[0m",
      "\u001b[1;31mValueError\u001b[0m                                Traceback (most recent call last)",
      "Cell \u001b[1;32mIn[111], line 1\u001b[0m\n\u001b[1;32m----> 1\u001b[0m a\u001b[38;5;129m@b\u001b[39m\n",
      "\u001b[1;31mValueError\u001b[0m: matmul: Input operand 1 has a mismatch in its core dimension 0, with gufunc signature (n?,k),(k,m?)->(n?,m?) (size 12 is different from 2)"
     ]
    }
   ],
   "source": [
    "a@b"
   ]
  },
  {
   "cell_type": "code",
   "execution_count": 122,
   "id": "ac44eef9ba74d5fb",
   "metadata": {
    "ExecuteTime": {
     "end_time": "2024-07-12T13:36:28.276088Z",
     "start_time": "2024-07-12T13:36:28.270916Z"
    }
   },
   "outputs": [
    {
     "data": {
      "text/plain": [
       "(5, 2)"
      ]
     },
     "execution_count": 122,
     "metadata": {},
     "output_type": "execute_result"
    }
   ],
   "source": [
    "a.shape"
   ]
  },
  {
   "cell_type": "code",
   "execution_count": 123,
   "id": "ce2973efa33a59c1",
   "metadata": {
    "ExecuteTime": {
     "end_time": "2024-07-12T13:36:30.723046Z",
     "start_time": "2024-07-12T13:36:30.717328Z"
    }
   },
   "outputs": [
    {
     "data": {
      "text/plain": [
       "(12, 2)"
      ]
     },
     "execution_count": 123,
     "metadata": {},
     "output_type": "execute_result"
    }
   ],
   "source": [
    "b.shape"
   ]
  },
  {
   "cell_type": "code",
   "execution_count": 126,
   "id": "5d9f5baf243ee035",
   "metadata": {
    "ExecuteTime": {
     "end_time": "2024-07-12T13:37:19.975524Z",
     "start_time": "2024-07-12T13:37:19.969265Z"
    }
   },
   "outputs": [
    {
     "data": {
      "text/plain": [
       "array([[ 12,  13,  14,  15,  16,  17,  18,  19,  20,  21,  22,  23],\n",
       "       [ 36,  41,  46,  51,  56,  61,  66,  71,  76,  81,  86,  91],\n",
       "       [ 60,  69,  78,  87,  96, 105, 114, 123, 132, 141, 150, 159],\n",
       "       [ 84,  97, 110, 123, 136, 149, 162, 175, 188, 201, 214, 227],\n",
       "       [108, 125, 142, 159, 176, 193, 210, 227, 244, 261, 278, 295]])"
      ]
     },
     "execution_count": 126,
     "metadata": {},
     "output_type": "execute_result"
    }
   ],
   "source": [
    "a@b"
   ]
  },
  {
   "cell_type": "code",
   "execution_count": 127,
   "id": "c213ea298d10d7df",
   "metadata": {
    "ExecuteTime": {
     "end_time": "2024-07-12T13:37:37.682979Z",
     "start_time": "2024-07-12T13:37:37.665276Z"
    }
   },
   "outputs": [
    {
     "ename": "ValueError",
     "evalue": "operands could not be broadcast together with shapes (5,2) (2,12) ",
     "output_type": "error",
     "traceback": [
      "\u001b[1;31m---------------------------------------------------------------------------\u001b[0m",
      "\u001b[1;31mValueError\u001b[0m                                Traceback (most recent call last)",
      "Cell \u001b[1;32mIn[127], line 1\u001b[0m\n\u001b[1;32m----> 1\u001b[0m a\u001b[38;5;241m*\u001b[39mb\n",
      "\u001b[1;31mValueError\u001b[0m: operands could not be broadcast together with shapes (5,2) (2,12) "
     ]
    }
   ],
   "source": [
    "a*b"
   ]
  },
  {
   "cell_type": "code",
   "execution_count": 128,
   "id": "990c4a86792a8f81",
   "metadata": {
    "ExecuteTime": {
     "end_time": "2024-07-12T21:12:04.260977Z",
     "start_time": "2024-07-12T21:12:04.257887Z"
    }
   },
   "outputs": [],
   "source": [
    "x = np.arange(10).reshape(5,2)"
   ]
  },
  {
   "cell_type": "code",
   "execution_count": 129,
   "id": "438622c2a97a2f1d",
   "metadata": {
    "ExecuteTime": {
     "end_time": "2024-07-12T21:12:24.996569Z",
     "start_time": "2024-07-12T21:12:24.990568Z"
    }
   },
   "outputs": [
    {
     "data": {
      "text/plain": [
       "array([[1.00000000e+00, 2.71828183e+00],\n",
       "       [7.38905610e+00, 2.00855369e+01],\n",
       "       [5.45981500e+01, 1.48413159e+02],\n",
       "       [4.03428793e+02, 1.09663316e+03],\n",
       "       [2.98095799e+03, 8.10308393e+03]])"
      ]
     },
     "execution_count": 129,
     "metadata": {},
     "output_type": "execute_result"
    }
   ],
   "source": [
    "np.exp(x)"
   ]
  },
  {
   "cell_type": "code",
   "execution_count": 130,
   "id": "52ff2e00307e784c",
   "metadata": {
    "ExecuteTime": {
     "end_time": "2024-07-12T21:13:51.486757Z",
     "start_time": "2024-07-12T21:13:51.484029Z"
    }
   },
   "outputs": [],
   "source": [
    "x = np.arange(48).reshape(6,8)"
   ]
  },
  {
   "cell_type": "code",
   "execution_count": 132,
   "id": "f34654a59c1e4133",
   "metadata": {
    "ExecuteTime": {
     "end_time": "2024-07-12T21:14:22.477306Z",
     "start_time": "2024-07-12T21:14:22.471123Z"
    }
   },
   "outputs": [
    {
     "data": {
      "text/plain": [
       "array([[ 0,  1,  2,  3,  4,  5,  6,  7],\n",
       "       [ 8,  9, 10, 11, 12, 13, 14, 15],\n",
       "       [16, 17, 18, 19, 20, 21, 22, 23],\n",
       "       [24, 25, 26, 27, 28, 29, 30, 31],\n",
       "       [32, 33, 34, 35, 36, 37, 38, 39],\n",
       "       [40, 41, 42, 43, 44, 45, 46, 47]])"
      ]
     },
     "execution_count": 132,
     "metadata": {},
     "output_type": "execute_result"
    }
   ],
   "source": [
    "x"
   ]
  },
  {
   "cell_type": "code",
   "execution_count": 131,
   "id": "3c9f579294cb4b44",
   "metadata": {
    "ExecuteTime": {
     "end_time": "2024-07-12T21:14:08.588907Z",
     "start_time": "2024-07-12T21:14:08.583673Z"
    }
   },
   "outputs": [
    {
     "data": {
      "text/plain": [
       "array([ 28,  92, 156, 220, 284, 348])"
      ]
     },
     "execution_count": 131,
     "metadata": {},
     "output_type": "execute_result"
    }
   ],
   "source": [
    "x.sum(axis=1)"
   ]
  },
  {
   "cell_type": "code",
   "execution_count": 133,
   "id": "70905ce8081c46d1",
   "metadata": {
    "ExecuteTime": {
     "end_time": "2024-07-12T21:14:45.400439Z",
     "start_time": "2024-07-12T21:14:45.395777Z"
    }
   },
   "outputs": [
    {
     "data": {
      "text/plain": [
       "array([120, 126, 132, 138, 144, 150, 156, 162])"
      ]
     },
     "execution_count": 133,
     "metadata": {},
     "output_type": "execute_result"
    }
   ],
   "source": [
    "x.sum(axis=0)"
   ]
  },
  {
   "cell_type": "code",
   "execution_count": 134,
   "id": "802a236d6510fff8",
   "metadata": {
    "ExecuteTime": {
     "end_time": "2024-07-12T21:16:05.401422Z",
     "start_time": "2024-07-12T21:16:05.397337Z"
    }
   },
   "outputs": [
    {
     "data": {
      "text/plain": [
       "array([ 7, 15, 23, 31, 39, 47])"
      ]
     },
     "execution_count": 134,
     "metadata": {},
     "output_type": "execute_result"
    }
   ],
   "source": [
    "x.max(axis=1)"
   ]
  },
  {
   "cell_type": "code",
   "execution_count": 135,
   "id": "6fcc8c72a517f6cd",
   "metadata": {
    "ExecuteTime": {
     "end_time": "2024-07-12T21:16:22.565523Z",
     "start_time": "2024-07-12T21:16:22.560343Z"
    }
   },
   "outputs": [
    {
     "data": {
      "text/plain": [
       "array([0, 1, 2, 3, 4, 5, 6, 7])"
      ]
     },
     "execution_count": 135,
     "metadata": {},
     "output_type": "execute_result"
    }
   ],
   "source": [
    "x.min(axis=0)"
   ]
  },
  {
   "cell_type": "code",
   "execution_count": 136,
   "id": "36f523b7a039c87f",
   "metadata": {
    "ExecuteTime": {
     "end_time": "2024-07-12T21:17:29.629407Z",
     "start_time": "2024-07-12T21:17:29.624402Z"
    }
   },
   "outputs": [
    {
     "data": {
      "text/plain": [
       "array([[0.        , 1.        , 1.41421356, 1.73205081, 2.        ,\n",
       "        2.23606798, 2.44948974, 2.64575131],\n",
       "       [2.82842712, 3.        , 3.16227766, 3.31662479, 3.46410162,\n",
       "        3.60555128, 3.74165739, 3.87298335],\n",
       "       [4.        , 4.12310563, 4.24264069, 4.35889894, 4.47213595,\n",
       "        4.58257569, 4.69041576, 4.79583152],\n",
       "       [4.89897949, 5.        , 5.09901951, 5.19615242, 5.29150262,\n",
       "        5.38516481, 5.47722558, 5.56776436],\n",
       "       [5.65685425, 5.74456265, 5.83095189, 5.91607978, 6.        ,\n",
       "        6.08276253, 6.164414  , 6.244998  ],\n",
       "       [6.32455532, 6.40312424, 6.4807407 , 6.55743852, 6.63324958,\n",
       "        6.70820393, 6.78232998, 6.8556546 ]])"
      ]
     },
     "execution_count": 136,
     "metadata": {},
     "output_type": "execute_result"
    }
   ],
   "source": [
    "np.sqrt(x)"
   ]
  },
  {
   "cell_type": "code",
   "execution_count": 137,
   "id": "112af96b27b1902e",
   "metadata": {
    "ExecuteTime": {
     "end_time": "2024-07-12T21:17:49.240559Z",
     "start_time": "2024-07-12T21:17:49.235235Z"
    }
   },
   "outputs": [
    {
     "data": {
      "text/plain": [
       "array([[   0,    1,    4,    9,   16,   25,   36,   49],\n",
       "       [  64,   81,  100,  121,  144,  169,  196,  225],\n",
       "       [ 256,  289,  324,  361,  400,  441,  484,  529],\n",
       "       [ 576,  625,  676,  729,  784,  841,  900,  961],\n",
       "       [1024, 1089, 1156, 1225, 1296, 1369, 1444, 1521],\n",
       "       [1600, 1681, 1764, 1849, 1936, 2025, 2116, 2209]])"
      ]
     },
     "execution_count": 137,
     "metadata": {},
     "output_type": "execute_result"
    }
   ],
   "source": [
    "np.square(x)"
   ]
  },
  {
   "cell_type": "code",
   "execution_count": 138,
   "id": "301ebb40a28a1b9a",
   "metadata": {
    "ExecuteTime": {
     "end_time": "2024-07-12T21:18:40.710714Z",
     "start_time": "2024-07-12T21:18:40.706464Z"
    }
   },
   "outputs": [
    {
     "name": "stderr",
     "output_type": "stream",
     "text": [
      "C:\\Users\\rayes\\AppData\\Local\\Temp\\ipykernel_26384\\3541678379.py:1: DeprecationWarning: Calling nonzero on 0d arrays is deprecated, as it behaves surprisingly. Use `atleast_1d(arr).nonzero()` if the old behavior was intended.\n",
      "  np.where(0)\n"
     ]
    },
    {
     "data": {
      "text/plain": [
       "(array([], dtype=int64),)"
      ]
     },
     "execution_count": 138,
     "metadata": {},
     "output_type": "execute_result"
    }
   ],
   "source": [
    "np.where(0)"
   ]
  },
  {
   "cell_type": "code",
   "execution_count": 146,
   "id": "b1d3a0cc2e41307f",
   "metadata": {
    "ExecuteTime": {
     "end_time": "2024-07-12T21:21:27.154901Z",
     "start_time": "2024-07-12T21:21:27.144978Z"
    }
   },
   "outputs": [
    {
     "data": {
      "text/plain": [
       "array([[ 0,  0,  0,  0,  0,  0,  0,  0],\n",
       "       [ 0,  0,  0,  0,  0,  0,  0,  0],\n",
       "       [ 0,  0,  0,  0,  0,  0,  0,  0],\n",
       "       [ 0,  0,  0,  0,  0,  0,  0, 31],\n",
       "       [32, 33, 34, 35, 36, 37, 38, 39],\n",
       "       [40, 41, 42, 43, 44, 45, 46, 47]])"
      ]
     },
     "execution_count": 146,
     "metadata": {},
     "output_type": "execute_result"
    }
   ],
   "source": [
    "np.where(x>30,x,0)"
   ]
  },
  {
   "cell_type": "code",
   "execution_count": 148,
   "id": "298387371d3a0e7c",
   "metadata": {
    "ExecuteTime": {
     "end_time": "2024-07-12T21:23:47.730665Z",
     "start_time": "2024-07-12T21:23:47.724767Z"
    }
   },
   "outputs": [
    {
     "data": {
      "text/plain": [
       "True"
      ]
     },
     "execution_count": 148,
     "metadata": {},
     "output_type": "execute_result"
    }
   ],
   "source": [
    "np.all(x>=0)"
   ]
  },
  {
   "cell_type": "code",
   "execution_count": 149,
   "id": "b7cf9c0641408d18",
   "metadata": {
    "ExecuteTime": {
     "end_time": "2024-07-12T21:23:55.440499Z",
     "start_time": "2024-07-12T21:23:55.435602Z"
    }
   },
   "outputs": [
    {
     "data": {
      "text/plain": [
       "True"
      ]
     },
     "execution_count": 149,
     "metadata": {},
     "output_type": "execute_result"
    }
   ],
   "source": [
    "np.any(x>0)"
   ]
  },
  {
   "cell_type": "code",
   "execution_count": 150,
   "id": "b086e77512dd53c8",
   "metadata": {
    "ExecuteTime": {
     "end_time": "2024-07-12T21:24:03.470362Z",
     "start_time": "2024-07-12T21:24:03.465391Z"
    }
   },
   "outputs": [
    {
     "data": {
      "text/plain": [
       "False"
      ]
     },
     "execution_count": 150,
     "metadata": {},
     "output_type": "execute_result"
    }
   ],
   "source": [
    "np.any(x<0)"
   ]
  },
  {
   "cell_type": "code",
   "execution_count": 160,
   "id": "a30eddb33fcf324",
   "metadata": {
    "ExecuteTime": {
     "end_time": "2024-07-12T21:28:13.956264Z",
     "start_time": "2024-07-12T21:28:13.949130Z"
    }
   },
   "outputs": [
    {
     "data": {
      "text/plain": [
       "array([False, False,  True, False, False, False])"
      ]
     },
     "execution_count": 160,
     "metadata": {},
     "output_type": "execute_result"
    }
   ],
   "source": [
    "np.any(x==16,axis=1)"
   ]
  },
  {
   "cell_type": "code",
   "execution_count": 156,
   "id": "996bd1a39a979b67",
   "metadata": {
    "ExecuteTime": {
     "end_time": "2024-07-12T21:26:15.354695Z",
     "start_time": "2024-07-12T21:26:15.342254Z"
    }
   },
   "outputs": [
    {
     "data": {
      "text/plain": [
       "array([[ 0,  1,  2,  3,  4,  5,  6,  7],\n",
       "       [ 8,  9, 10, 11, 12, 13, 14, 15],\n",
       "       [16, 17, 18, 19, 20, 21, 22, 23],\n",
       "       [24, 25, 26, 27, 28, 29, 30, 31],\n",
       "       [32, 33, 34, 35, 36, 37, 38, 39],\n",
       "       [40, 41, 42, 43, 44, 45, 46, 47]])"
      ]
     },
     "execution_count": 156,
     "metadata": {},
     "output_type": "execute_result"
    }
   ],
   "source": [
    "x"
   ]
  },
  {
   "cell_type": "code",
   "execution_count": null,
   "id": "2f2ebd348ecf55c8",
   "metadata": {},
   "outputs": [],
   "source": [
    "#all, any, apply_along_axis, argmax, argmin, argsort, average, bincount, ceil, clip, conj, corrcoef, cov, cross, cumprod, cumsum, diff, dot, floor, inner, invert, lexsort, max, maximum, mean, median, min, minimum, nonzero, outer, prod, re, round, sort, std, sum, trace, transpose, var, vdot, vectorize, where"
   ]
  },
  {
   "cell_type": "code",
   "execution_count": 162,
   "id": "5056a4f79f7b3f50",
   "metadata": {
    "ExecuteTime": {
     "end_time": "2024-07-12T21:31:23.816379Z",
     "start_time": "2024-07-12T21:31:23.812321Z"
    }
   },
   "outputs": [],
   "source": [
    "a = np.arange(15)**2"
   ]
  },
  {
   "cell_type": "code",
   "execution_count": 163,
   "id": "328dd3d7e6470f47",
   "metadata": {
    "ExecuteTime": {
     "end_time": "2024-07-12T21:31:26.529783Z",
     "start_time": "2024-07-12T21:31:26.524580Z"
    }
   },
   "outputs": [
    {
     "data": {
      "text/plain": [
       "array([  0,   1,   4,   9,  16,  25,  36,  49,  64,  81, 100, 121, 144,\n",
       "       169, 196])"
      ]
     },
     "execution_count": 163,
     "metadata": {},
     "output_type": "execute_result"
    }
   ],
   "source": [
    "a"
   ]
  },
  {
   "cell_type": "code",
   "execution_count": 164,
   "id": "784dae4d5ddb83fc",
   "metadata": {
    "ExecuteTime": {
     "end_time": "2024-07-12T21:31:30.428371Z",
     "start_time": "2024-07-12T21:31:30.423494Z"
    }
   },
   "outputs": [
    {
     "data": {
      "text/plain": [
       "0"
      ]
     },
     "execution_count": 164,
     "metadata": {},
     "output_type": "execute_result"
    }
   ],
   "source": [
    "a[0]"
   ]
  },
  {
   "cell_type": "code",
   "execution_count": 165,
   "id": "578155e8f19782ef",
   "metadata": {
    "ExecuteTime": {
     "end_time": "2024-07-12T21:32:50.200210Z",
     "start_time": "2024-07-12T21:32:50.194723Z"
    }
   },
   "outputs": [
    {
     "data": {
      "text/plain": [
       "array([ 1,  4,  9, 16])"
      ]
     },
     "execution_count": 165,
     "metadata": {},
     "output_type": "execute_result"
    }
   ],
   "source": [
    "a[1:5]"
   ]
  },
  {
   "cell_type": "code",
   "execution_count": 166,
   "id": "cca2a3807a8854e9",
   "metadata": {
    "ExecuteTime": {
     "end_time": "2024-07-12T21:35:37.963558Z",
     "start_time": "2024-07-12T21:35:37.959244Z"
    }
   },
   "outputs": [
    {
     "name": "stdout",
     "output_type": "stream",
     "text": [
      "[[0. 1. 2.]\n",
      " [1. 2. 3.]\n",
      " [2. 3. 4.]]\n"
     ]
    }
   ],
   "source": [
    "import numpy as np\n",
    "\n",
    "result = np.fromfunction(lambda i, j: i + j, (3, 3))\n",
    "print(result)"
   ]
  },
  {
   "cell_type": "code",
   "execution_count": 167,
   "id": "2c546ccc87f97dcd",
   "metadata": {
    "ExecuteTime": {
     "end_time": "2024-07-12T21:36:28.281122Z",
     "start_time": "2024-07-12T21:36:28.276956Z"
    }
   },
   "outputs": [],
   "source": [
    "def f(x, y):\n",
    "    return 10 * x + y\n",
    "\n",
    "b = np.fromfunction(f, (5, 4), dtype=int)"
   ]
  },
  {
   "cell_type": "code",
   "execution_count": 168,
   "id": "58940f37e8c0dcda",
   "metadata": {
    "ExecuteTime": {
     "end_time": "2024-07-12T21:36:32.279535Z",
     "start_time": "2024-07-12T21:36:32.274903Z"
    }
   },
   "outputs": [
    {
     "data": {
      "text/plain": [
       "array([[ 0,  1,  2,  3],\n",
       "       [10, 11, 12, 13],\n",
       "       [20, 21, 22, 23],\n",
       "       [30, 31, 32, 33],\n",
       "       [40, 41, 42, 43]])"
      ]
     },
     "execution_count": 168,
     "metadata": {},
     "output_type": "execute_result"
    }
   ],
   "source": [
    "b"
   ]
  },
  {
   "cell_type": "code",
   "execution_count": 169,
   "id": "ec2adbe30c3cf2c1",
   "metadata": {
    "ExecuteTime": {
     "end_time": "2024-07-12T21:36:59.909022Z",
     "start_time": "2024-07-12T21:36:59.903363Z"
    }
   },
   "outputs": [
    {
     "data": {
      "text/plain": [
       "array([40, 41, 42, 43])"
      ]
     },
     "execution_count": 169,
     "metadata": {},
     "output_type": "execute_result"
    }
   ],
   "source": [
    "b[-1]"
   ]
  },
  {
   "cell_type": "code",
   "execution_count": 170,
   "id": "30c1301c40e75754",
   "metadata": {
    "ExecuteTime": {
     "end_time": "2024-07-12T21:37:11.298652Z",
     "start_time": "2024-07-12T21:37:11.294256Z"
    }
   },
   "outputs": [
    {
     "data": {
      "text/plain": [
       "array([10, 11, 12, 13])"
      ]
     },
     "execution_count": 170,
     "metadata": {},
     "output_type": "execute_result"
    }
   ],
   "source": [
    "b[1]"
   ]
  },
  {
   "cell_type": "code",
   "execution_count": 171,
   "id": "a2d4121cd6f0f8d0",
   "metadata": {
    "ExecuteTime": {
     "end_time": "2024-07-12T21:37:23.778508Z",
     "start_time": "2024-07-12T21:37:23.774035Z"
    }
   },
   "outputs": [
    {
     "data": {
      "text/plain": [
       "array([30, 31, 32, 33])"
      ]
     },
     "execution_count": 171,
     "metadata": {},
     "output_type": "execute_result"
    }
   ],
   "source": [
    "b[-2]"
   ]
  },
  {
   "cell_type": "code",
   "execution_count": 172,
   "id": "f30ea5e70985bf1a",
   "metadata": {
    "ExecuteTime": {
     "end_time": "2024-07-12T21:37:33.762689Z",
     "start_time": "2024-07-12T21:37:33.757680Z"
    }
   },
   "outputs": [
    {
     "data": {
      "text/plain": [
       "1"
      ]
     },
     "execution_count": 172,
     "metadata": {},
     "output_type": "execute_result"
    }
   ],
   "source": [
    "b[0,1]"
   ]
  },
  {
   "cell_type": "code",
   "execution_count": 173,
   "id": "53d0c80f7c9fa121",
   "metadata": {
    "ExecuteTime": {
     "end_time": "2024-07-12T21:37:45.951382Z",
     "start_time": "2024-07-12T21:37:45.946416Z"
    }
   },
   "outputs": [
    {
     "data": {
      "text/plain": [
       "array([0, 1, 2, 3])"
      ]
     },
     "execution_count": 173,
     "metadata": {},
     "output_type": "execute_result"
    }
   ],
   "source": [
    "b[0]"
   ]
  },
  {
   "cell_type": "code",
   "execution_count": 174,
   "id": "ecf7d56afd1bde9b",
   "metadata": {
    "ExecuteTime": {
     "end_time": "2024-07-12T21:38:34.142183Z",
     "start_time": "2024-07-12T21:38:34.138790Z"
    }
   },
   "outputs": [],
   "source": [
    "x = np.arange(24).reshape(2,3,4)"
   ]
  },
  {
   "cell_type": "code",
   "execution_count": 175,
   "id": "45c2b2f4b5aef369",
   "metadata": {
    "ExecuteTime": {
     "end_time": "2024-07-12T21:38:36.178642Z",
     "start_time": "2024-07-12T21:38:36.167650Z"
    }
   },
   "outputs": [
    {
     "data": {
      "text/plain": [
       "array([[[ 0,  1,  2,  3],\n",
       "        [ 4,  5,  6,  7],\n",
       "        [ 8,  9, 10, 11]],\n",
       "\n",
       "       [[12, 13, 14, 15],\n",
       "        [16, 17, 18, 19],\n",
       "        [20, 21, 22, 23]]])"
      ]
     },
     "execution_count": 175,
     "metadata": {},
     "output_type": "execute_result"
    }
   ],
   "source": [
    "x"
   ]
  },
  {
   "cell_type": "code",
   "execution_count": 177,
   "id": "dd38f60f219341bb",
   "metadata": {
    "ExecuteTime": {
     "end_time": "2024-07-12T21:39:01.495085Z",
     "start_time": "2024-07-12T21:39:01.489974Z"
    }
   },
   "outputs": [
    {
     "data": {
      "text/plain": [
       "array([0, 1, 2, 3])"
      ]
     },
     "execution_count": 177,
     "metadata": {},
     "output_type": "execute_result"
    }
   ],
   "source": [
    "x[0][0]"
   ]
  },
  {
   "cell_type": "code",
   "execution_count": 178,
   "id": "ecfc7e62803f0575",
   "metadata": {
    "ExecuteTime": {
     "end_time": "2024-07-12T21:39:10.511732Z",
     "start_time": "2024-07-12T21:39:10.506411Z"
    }
   },
   "outputs": [
    {
     "data": {
      "text/plain": [
       "array([[12, 13, 14, 15],\n",
       "       [16, 17, 18, 19],\n",
       "       [20, 21, 22, 23]])"
      ]
     },
     "execution_count": 178,
     "metadata": {},
     "output_type": "execute_result"
    }
   ],
   "source": [
    "x[1]"
   ]
  },
  {
   "cell_type": "code",
   "execution_count": 181,
   "id": "888f2790203a59e6",
   "metadata": {
    "ExecuteTime": {
     "end_time": "2024-07-12T21:40:20.478417Z",
     "start_time": "2024-07-12T21:40:20.465107Z"
    }
   },
   "outputs": [
    {
     "data": {
      "text/plain": [
       "array([ 0,  1,  2,  3,  4,  5,  6,  7,  8,  9, 10, 11, 12, 13, 14, 15, 16,\n",
       "       17, 18, 19, 20, 21, 22, 23])"
      ]
     },
     "execution_count": 181,
     "metadata": {},
     "output_type": "execute_result"
    }
   ],
   "source": [
    "x.flatten()"
   ]
  },
  {
   "cell_type": "code",
   "execution_count": 182,
   "id": "279749ed52ad9fd7",
   "metadata": {
    "ExecuteTime": {
     "end_time": "2024-07-12T21:41:05.939313Z",
     "start_time": "2024-07-12T21:41:05.935872Z"
    }
   },
   "outputs": [],
   "source": [
    "toplam=0\n",
    "for i in x.flatten():\n",
    "    toplam+=i"
   ]
  },
  {
   "cell_type": "code",
   "execution_count": 183,
   "id": "b78a4ee7dbe387e3",
   "metadata": {
    "ExecuteTime": {
     "end_time": "2024-07-12T21:41:11.753186Z",
     "start_time": "2024-07-12T21:41:11.749369Z"
    }
   },
   "outputs": [
    {
     "name": "stdout",
     "output_type": "stream",
     "text": [
      "276\n"
     ]
    }
   ],
   "source": [
    "print(toplam)"
   ]
  },
  {
   "cell_type": "code",
   "execution_count": 185,
   "id": "c33df6067fa28ecc",
   "metadata": {
    "ExecuteTime": {
     "end_time": "2024-07-12T21:43:57.600421Z",
     "start_time": "2024-07-12T21:43:57.594115Z"
    }
   },
   "outputs": [
    {
     "data": {
      "text/plain": [
       "array([ 0,  1,  2,  3,  4,  5,  6,  7,  8,  9, 10, 11, 12, 13, 14, 15, 16,\n",
       "       17, 18, 19, 20, 21, 22, 23])"
      ]
     },
     "execution_count": 185,
     "metadata": {},
     "output_type": "execute_result"
    }
   ],
   "source": [
    "x = np.arange(24).reshape(2,3,4)\n",
    "x.ravel()"
   ]
  },
  {
   "cell_type": "code",
   "execution_count": 187,
   "id": "91422c1e7ee7d6fe",
   "metadata": {
    "ExecuteTime": {
     "end_time": "2024-07-12T21:44:19.637055Z",
     "start_time": "2024-07-12T21:44:19.633554Z"
    }
   },
   "outputs": [],
   "source": [
    "x = np.linspace(0,27,3)"
   ]
  },
  {
   "cell_type": "code",
   "execution_count": 188,
   "id": "f57add1cd79f01af",
   "metadata": {
    "ExecuteTime": {
     "end_time": "2024-07-12T21:44:20.902017Z",
     "start_time": "2024-07-12T21:44:20.897340Z"
    }
   },
   "outputs": [
    {
     "data": {
      "text/plain": [
       "array([ 0. , 13.5, 27. ])"
      ]
     },
     "execution_count": 188,
     "metadata": {},
     "output_type": "execute_result"
    }
   ],
   "source": [
    "x"
   ]
  },
  {
   "cell_type": "code",
   "execution_count": 189,
   "id": "51397327e276c8f4",
   "metadata": {
    "ExecuteTime": {
     "end_time": "2024-07-12T21:44:33.627812Z",
     "start_time": "2024-07-12T21:44:33.621632Z"
    }
   },
   "outputs": [
    {
     "data": {
      "text/plain": [
       "array([ 0., 13., 27.])"
      ]
     },
     "execution_count": 189,
     "metadata": {},
     "output_type": "execute_result"
    }
   ],
   "source": [
    "np.floor(x)"
   ]
  },
  {
   "cell_type": "code",
   "execution_count": 190,
   "id": "eb2b7859bc9d868d",
   "metadata": {
    "ExecuteTime": {
     "end_time": "2024-07-12T21:44:38.129374Z",
     "start_time": "2024-07-12T21:44:38.124414Z"
    }
   },
   "outputs": [
    {
     "data": {
      "text/plain": [
       "array([ 0. , 13.5, 27. ])"
      ]
     },
     "execution_count": 190,
     "metadata": {},
     "output_type": "execute_result"
    }
   ],
   "source": [
    "x"
   ]
  },
  {
   "cell_type": "code",
   "execution_count": 191,
   "id": "6df29afb64d7bbf9",
   "metadata": {
    "ExecuteTime": {
     "end_time": "2024-07-12T21:45:10.088764Z",
     "start_time": "2024-07-12T21:45:10.084822Z"
    }
   },
   "outputs": [],
   "source": [
    "x = np.arange(24).reshape(2,3,4)"
   ]
  },
  {
   "cell_type": "code",
   "execution_count": 192,
   "id": "906ddfc9179fa441",
   "metadata": {
    "ExecuteTime": {
     "end_time": "2024-07-12T21:45:11.620220Z",
     "start_time": "2024-07-12T21:45:11.615039Z"
    }
   },
   "outputs": [
    {
     "data": {
      "text/plain": [
       "array([[[ 0,  1,  2,  3],\n",
       "        [ 4,  5,  6,  7],\n",
       "        [ 8,  9, 10, 11]],\n",
       "\n",
       "       [[12, 13, 14, 15],\n",
       "        [16, 17, 18, 19],\n",
       "        [20, 21, 22, 23]]])"
      ]
     },
     "execution_count": 192,
     "metadata": {},
     "output_type": "execute_result"
    }
   ],
   "source": [
    "x"
   ]
  },
  {
   "cell_type": "code",
   "execution_count": 194,
   "id": "7d11cf5bd0383365",
   "metadata": {
    "ExecuteTime": {
     "end_time": "2024-07-12T21:45:40.132210Z",
     "start_time": "2024-07-12T21:45:40.126152Z"
    }
   },
   "outputs": [
    {
     "data": {
      "text/plain": [
       "(4, 3, 2)"
      ]
     },
     "execution_count": 194,
     "metadata": {},
     "output_type": "execute_result"
    }
   ],
   "source": [
    "x.transpose().shape"
   ]
  },
  {
   "cell_type": "code",
   "execution_count": 195,
   "id": "71b969422f525d06",
   "metadata": {
    "ExecuteTime": {
     "end_time": "2024-07-12T21:46:12.369912Z",
     "start_time": "2024-07-12T21:46:12.364861Z"
    }
   },
   "outputs": [
    {
     "data": {
      "text/plain": [
       "array([[[ 0, 12],\n",
       "        [ 4, 16],\n",
       "        [ 8, 20]],\n",
       "\n",
       "       [[ 1, 13],\n",
       "        [ 5, 17],\n",
       "        [ 9, 21]],\n",
       "\n",
       "       [[ 2, 14],\n",
       "        [ 6, 18],\n",
       "        [10, 22]],\n",
       "\n",
       "       [[ 3, 15],\n",
       "        [ 7, 19],\n",
       "        [11, 23]]])"
      ]
     },
     "execution_count": 195,
     "metadata": {},
     "output_type": "execute_result"
    }
   ],
   "source": [
    "x.transpose()"
   ]
  },
  {
   "cell_type": "code",
   "execution_count": 196,
   "id": "1746ea486073eebc",
   "metadata": {
    "ExecuteTime": {
     "end_time": "2024-07-12T21:48:27.845435Z",
     "start_time": "2024-07-12T21:48:27.839709Z"
    }
   },
   "outputs": [],
   "source": [
    "x = np.arange(24).reshape(6,4)"
   ]
  },
  {
   "cell_type": "code",
   "execution_count": 197,
   "id": "6f1101f64a1123fc",
   "metadata": {
    "ExecuteTime": {
     "end_time": "2024-07-12T21:48:30.792851Z",
     "start_time": "2024-07-12T21:48:30.786163Z"
    }
   },
   "outputs": [
    {
     "data": {
      "text/plain": [
       "array([[ 0,  1,  2,  3],\n",
       "       [ 4,  5,  6,  7],\n",
       "       [ 8,  9, 10, 11],\n",
       "       [12, 13, 14, 15],\n",
       "       [16, 17, 18, 19],\n",
       "       [20, 21, 22, 23]])"
      ]
     },
     "execution_count": 197,
     "metadata": {},
     "output_type": "execute_result"
    }
   ],
   "source": [
    "x"
   ]
  },
  {
   "cell_type": "code",
   "execution_count": 198,
   "id": "60de141cedf6192",
   "metadata": {
    "ExecuteTime": {
     "end_time": "2024-07-12T21:48:37.080896Z",
     "start_time": "2024-07-12T21:48:37.073441Z"
    }
   },
   "outputs": [
    {
     "data": {
      "text/plain": [
       "array([[ 0,  1,  2,  3,  4,  5],\n",
       "       [ 6,  7,  8,  9, 10, 11],\n",
       "       [12, 13, 14, 15, 16, 17],\n",
       "       [18, 19, 20, 21, 22, 23]])"
      ]
     },
     "execution_count": 198,
     "metadata": {},
     "output_type": "execute_result"
    }
   ],
   "source": [
    "x.reshape(4,6)"
   ]
  },
  {
   "cell_type": "code",
   "execution_count": 199,
   "id": "759ffb669aecde7e",
   "metadata": {
    "ExecuteTime": {
     "end_time": "2024-07-12T21:48:39.976868Z",
     "start_time": "2024-07-12T21:48:39.972091Z"
    }
   },
   "outputs": [
    {
     "data": {
      "text/plain": [
       "array([[ 0,  1,  2,  3],\n",
       "       [ 4,  5,  6,  7],\n",
       "       [ 8,  9, 10, 11],\n",
       "       [12, 13, 14, 15],\n",
       "       [16, 17, 18, 19],\n",
       "       [20, 21, 22, 23]])"
      ]
     },
     "execution_count": 199,
     "metadata": {},
     "output_type": "execute_result"
    }
   ],
   "source": [
    "x"
   ]
  },
  {
   "cell_type": "code",
   "execution_count": 201,
   "id": "55dacf941a3d8b28",
   "metadata": {
    "ExecuteTime": {
     "end_time": "2024-07-12T21:48:55.735919Z",
     "start_time": "2024-07-12T21:48:55.733051Z"
    }
   },
   "outputs": [],
   "source": [
    "x.resize(2,12)"
   ]
  },
  {
   "cell_type": "code",
   "execution_count": 202,
   "id": "f68cdf7d556c80f3",
   "metadata": {
    "ExecuteTime": {
     "end_time": "2024-07-12T21:48:57.181459Z",
     "start_time": "2024-07-12T21:48:57.176732Z"
    }
   },
   "outputs": [
    {
     "data": {
      "text/plain": [
       "array([[ 0,  1,  2,  3,  4,  5,  6,  7,  8,  9, 10, 11],\n",
       "       [12, 13, 14, 15, 16, 17, 18, 19, 20, 21, 22, 23]])"
      ]
     },
     "execution_count": 202,
     "metadata": {},
     "output_type": "execute_result"
    }
   ],
   "source": [
    "x"
   ]
  },
  {
   "cell_type": "code",
   "execution_count": 203,
   "id": "58b497ad4c4378bc",
   "metadata": {
    "ExecuteTime": {
     "end_time": "2024-07-12T21:48:59.818416Z",
     "start_time": "2024-07-12T21:48:59.813574Z"
    }
   },
   "outputs": [
    {
     "data": {
      "text/plain": [
       "array([[ 0,  1,  2,  3,  4,  5,  6,  7,  8,  9, 10, 11],\n",
       "       [12, 13, 14, 15, 16, 17, 18, 19, 20, 21, 22, 23]])"
      ]
     },
     "execution_count": 203,
     "metadata": {},
     "output_type": "execute_result"
    }
   ],
   "source": [
    "x"
   ]
  },
  {
   "cell_type": "code",
   "execution_count": 205,
   "id": "ced1e4a21e4f18a1",
   "metadata": {
    "ExecuteTime": {
     "end_time": "2024-07-12T21:50:02.401054Z",
     "start_time": "2024-07-12T21:50:02.395906Z"
    }
   },
   "outputs": [
    {
     "data": {
      "text/plain": [
       "array([[ 0,  1,  2,  3,  4,  5,  6,  7],\n",
       "       [ 8,  9, 10, 11, 12, 13, 14, 15],\n",
       "       [16, 17, 18, 19, 20, 21, 22, 23]])"
      ]
     },
     "execution_count": 205,
     "metadata": {},
     "output_type": "execute_result"
    }
   ],
   "source": [
    "x.reshape(3,-1)  # sona -1 atarsak otomatik atar"
   ]
  },
  {
   "cell_type": "code",
   "execution_count": 206,
   "id": "2555af8aae20d431",
   "metadata": {
    "ExecuteTime": {
     "end_time": "2024-07-12T21:51:33.355227Z",
     "start_time": "2024-07-12T21:51:33.351142Z"
    }
   },
   "outputs": [],
   "source": [
    "a = np.array([[1,2,3],[4,5,6]])\n",
    "b = np.array([[7,8,9],[10,11,12]])"
   ]
  },
  {
   "cell_type": "code",
   "execution_count": 207,
   "id": "520ca0d56d4d31e",
   "metadata": {
    "ExecuteTime": {
     "end_time": "2024-07-12T21:51:39.567766Z",
     "start_time": "2024-07-12T21:51:39.562696Z"
    }
   },
   "outputs": [
    {
     "data": {
      "text/plain": [
       "(array([[1, 2, 3],\n",
       "        [4, 5, 6]]),\n",
       " array([[ 7,  8,  9],\n",
       "        [10, 11, 12]]))"
      ]
     },
     "execution_count": 207,
     "metadata": {},
     "output_type": "execute_result"
    }
   ],
   "source": [
    "a,b"
   ]
  },
  {
   "cell_type": "code",
   "execution_count": 208,
   "id": "e2ccca98fb9e2fd2",
   "metadata": {
    "ExecuteTime": {
     "end_time": "2024-07-12T21:51:52.786199Z",
     "start_time": "2024-07-12T21:51:52.780206Z"
    }
   },
   "outputs": [
    {
     "data": {
      "text/plain": [
       "array([[ 1,  2,  3,  7,  8,  9],\n",
       "       [ 4,  5,  6, 10, 11, 12]])"
      ]
     },
     "execution_count": 208,
     "metadata": {},
     "output_type": "execute_result"
    }
   ],
   "source": [
    "np.hstack((a,b)) #yatay"
   ]
  },
  {
   "cell_type": "code",
   "execution_count": 209,
   "id": "f7302d6ca8b510b8",
   "metadata": {
    "ExecuteTime": {
     "end_time": "2024-07-12T21:52:22.352532Z",
     "start_time": "2024-07-12T21:52:22.347492Z"
    }
   },
   "outputs": [
    {
     "data": {
      "text/plain": [
       "array([[ 1,  2,  3],\n",
       "       [ 4,  5,  6],\n",
       "       [ 7,  8,  9],\n",
       "       [10, 11, 12]])"
      ]
     },
     "execution_count": 209,
     "metadata": {},
     "output_type": "execute_result"
    }
   ],
   "source": [
    "np.vstack((a,b)) #dikey vertical"
   ]
  },
  {
   "cell_type": "code",
   "execution_count": 210,
   "id": "b4c860ab33c5111",
   "metadata": {
    "ExecuteTime": {
     "end_time": "2024-07-12T21:54:53.984540Z",
     "start_time": "2024-07-12T21:54:53.981599Z"
    }
   },
   "outputs": [],
   "source": [
    "from numpy import newaxis"
   ]
  },
  {
   "cell_type": "code",
   "execution_count": 211,
   "id": "f6f945fce1bd3e7d",
   "metadata": {
    "ExecuteTime": {
     "end_time": "2024-07-12T21:55:11.883187Z",
     "start_time": "2024-07-12T21:55:11.879687Z"
    }
   },
   "outputs": [],
   "source": [
    "a = np.array([1,2,3,4,5,6])"
   ]
  },
  {
   "cell_type": "code",
   "execution_count": 212,
   "id": "1a8d81d39727b47d",
   "metadata": {
    "ExecuteTime": {
     "end_time": "2024-07-12T21:55:13.810921Z",
     "start_time": "2024-07-12T21:55:13.805591Z"
    }
   },
   "outputs": [
    {
     "data": {
      "text/plain": [
       "array([1, 2, 3, 4, 5, 6])"
      ]
     },
     "execution_count": 212,
     "metadata": {},
     "output_type": "execute_result"
    }
   ],
   "source": [
    "a"
   ]
  },
  {
   "cell_type": "code",
   "execution_count": 215,
   "id": "4f2f162e2ee91c69",
   "metadata": {
    "ExecuteTime": {
     "end_time": "2024-07-12T21:55:50.475621Z",
     "start_time": "2024-07-12T21:55:50.471739Z"
    }
   },
   "outputs": [],
   "source": [
    "b = a[:, newaxis]"
   ]
  },
  {
   "cell_type": "code",
   "execution_count": 217,
   "id": "c0b2158815acef98",
   "metadata": {
    "ExecuteTime": {
     "end_time": "2024-07-12T21:55:59.475820Z",
     "start_time": "2024-07-12T21:55:59.470750Z"
    }
   },
   "outputs": [
    {
     "data": {
      "text/plain": [
       "2"
      ]
     },
     "execution_count": 217,
     "metadata": {},
     "output_type": "execute_result"
    }
   ],
   "source": [
    "b.ndim"
   ]
  },
  {
   "cell_type": "code",
   "execution_count": 218,
   "id": "67fce22e6be4dc61",
   "metadata": {
    "ExecuteTime": {
     "end_time": "2024-07-12T21:56:03.918153Z",
     "start_time": "2024-07-12T21:56:03.914092Z"
    }
   },
   "outputs": [
    {
     "data": {
      "text/plain": [
       "1"
      ]
     },
     "execution_count": 218,
     "metadata": {},
     "output_type": "execute_result"
    }
   ],
   "source": [
    "a.ndim"
   ]
  },
  {
   "cell_type": "code",
   "execution_count": 219,
   "id": "7986c4c7cc5f3c9c",
   "metadata": {
    "ExecuteTime": {
     "end_time": "2024-07-12T21:56:08.962559Z",
     "start_time": "2024-07-12T21:56:08.957460Z"
    }
   },
   "outputs": [
    {
     "data": {
      "text/plain": [
       "(6, 1)"
      ]
     },
     "execution_count": 219,
     "metadata": {},
     "output_type": "execute_result"
    }
   ],
   "source": [
    "b.shape"
   ]
  },
  {
   "cell_type": "code",
   "execution_count": 220,
   "id": "b4f8e37f35297636",
   "metadata": {
    "ExecuteTime": {
     "end_time": "2024-07-12T21:56:18.535299Z",
     "start_time": "2024-07-12T21:56:18.530769Z"
    }
   },
   "outputs": [
    {
     "data": {
      "text/plain": [
       "(6,)"
      ]
     },
     "execution_count": 220,
     "metadata": {},
     "output_type": "execute_result"
    }
   ],
   "source": [
    "a.shape"
   ]
  },
  {
   "cell_type": "code",
   "execution_count": 224,
   "id": "ba5397eb6ed59e84",
   "metadata": {
    "ExecuteTime": {
     "end_time": "2024-07-12T21:58:11.902522Z",
     "start_time": "2024-07-12T21:58:11.898661Z"
    }
   },
   "outputs": [],
   "source": [
    "a = np.array([3,4])\n",
    "b = np.array([5,6])\n",
    "\n",
    "c = np.column_stack((a,b))"
   ]
  },
  {
   "cell_type": "code",
   "execution_count": 223,
   "id": "8ac8b496b96b9dd8",
   "metadata": {
    "ExecuteTime": {
     "end_time": "2024-07-12T21:57:58.343729Z",
     "start_time": "2024-07-12T21:57:58.338881Z"
    }
   },
   "outputs": [
    {
     "data": {
      "text/plain": [
       "1"
      ]
     },
     "execution_count": 223,
     "metadata": {},
     "output_type": "execute_result"
    }
   ],
   "source": [
    "a.ndim"
   ]
  },
  {
   "cell_type": "code",
   "execution_count": 225,
   "id": "1230ef38f2f57b88",
   "metadata": {
    "ExecuteTime": {
     "end_time": "2024-07-12T21:58:18.217836Z",
     "start_time": "2024-07-12T21:58:18.213567Z"
    }
   },
   "outputs": [
    {
     "data": {
      "text/plain": [
       "array([[3, 5],\n",
       "       [4, 6]])"
      ]
     },
     "execution_count": 225,
     "metadata": {},
     "output_type": "execute_result"
    }
   ],
   "source": [
    "c"
   ]
  },
  {
   "cell_type": "code",
   "execution_count": 226,
   "id": "c6053d2550987402",
   "metadata": {
    "ExecuteTime": {
     "end_time": "2024-07-12T21:58:22.426449Z",
     "start_time": "2024-07-12T21:58:22.421455Z"
    }
   },
   "outputs": [
    {
     "data": {
      "text/plain": [
       "2"
      ]
     },
     "execution_count": 226,
     "metadata": {},
     "output_type": "execute_result"
    }
   ],
   "source": [
    "c.ndim"
   ]
  },
  {
   "cell_type": "code",
   "execution_count": 227,
   "id": "e28da3b8cbdcf79d",
   "metadata": {
    "ExecuteTime": {
     "end_time": "2024-07-12T21:59:49.122877Z",
     "start_time": "2024-07-12T21:59:49.116495Z"
    }
   },
   "outputs": [],
   "source": [
    "a = np.arange(24).reshape(2,3,4)\n",
    "b = np.linspace(15,30,24).reshape(2,3,4)"
   ]
  },
  {
   "cell_type": "code",
   "execution_count": 228,
   "id": "9dc9c6fb49ffec1f",
   "metadata": {
    "ExecuteTime": {
     "end_time": "2024-07-12T21:59:50.600182Z",
     "start_time": "2024-07-12T21:59:50.595819Z"
    }
   },
   "outputs": [
    {
     "data": {
      "text/plain": [
       "array([[[ 0,  1,  2,  3],\n",
       "        [ 4,  5,  6,  7],\n",
       "        [ 8,  9, 10, 11]],\n",
       "\n",
       "       [[12, 13, 14, 15],\n",
       "        [16, 17, 18, 19],\n",
       "        [20, 21, 22, 23]]])"
      ]
     },
     "execution_count": 228,
     "metadata": {},
     "output_type": "execute_result"
    }
   ],
   "source": [
    "a"
   ]
  },
  {
   "cell_type": "code",
   "execution_count": 229,
   "id": "aa9f118f992efd58",
   "metadata": {
    "ExecuteTime": {
     "end_time": "2024-07-12T21:59:53.176758Z",
     "start_time": "2024-07-12T21:59:53.172091Z"
    }
   },
   "outputs": [
    {
     "data": {
      "text/plain": [
       "array([[[15.        , 15.65217391, 16.30434783, 16.95652174],\n",
       "        [17.60869565, 18.26086957, 18.91304348, 19.56521739],\n",
       "        [20.2173913 , 20.86956522, 21.52173913, 22.17391304]],\n",
       "\n",
       "       [[22.82608696, 23.47826087, 24.13043478, 24.7826087 ],\n",
       "        [25.43478261, 26.08695652, 26.73913043, 27.39130435],\n",
       "        [28.04347826, 28.69565217, 29.34782609, 30.        ]]])"
      ]
     },
     "execution_count": 229,
     "metadata": {},
     "output_type": "execute_result"
    }
   ],
   "source": [
    "b"
   ]
  },
  {
   "cell_type": "code",
   "execution_count": 231,
   "id": "eef28064ba35abb4",
   "metadata": {
    "ExecuteTime": {
     "end_time": "2024-07-12T22:00:14.198386Z",
     "start_time": "2024-07-12T22:00:14.194867Z"
    }
   },
   "outputs": [],
   "source": [
    "d = np.column_stack((a,b))"
   ]
  },
  {
   "cell_type": "code",
   "execution_count": 232,
   "id": "5b8a275ec4f0707b",
   "metadata": {
    "ExecuteTime": {
     "end_time": "2024-07-12T22:00:15.939097Z",
     "start_time": "2024-07-12T22:00:15.934738Z"
    }
   },
   "outputs": [
    {
     "data": {
      "text/plain": [
       "array([[[ 0.        ,  1.        ,  2.        ,  3.        ],\n",
       "        [ 4.        ,  5.        ,  6.        ,  7.        ],\n",
       "        [ 8.        ,  9.        , 10.        , 11.        ],\n",
       "        [15.        , 15.65217391, 16.30434783, 16.95652174],\n",
       "        [17.60869565, 18.26086957, 18.91304348, 19.56521739],\n",
       "        [20.2173913 , 20.86956522, 21.52173913, 22.17391304]],\n",
       "\n",
       "       [[12.        , 13.        , 14.        , 15.        ],\n",
       "        [16.        , 17.        , 18.        , 19.        ],\n",
       "        [20.        , 21.        , 22.        , 23.        ],\n",
       "        [22.82608696, 23.47826087, 24.13043478, 24.7826087 ],\n",
       "        [25.43478261, 26.08695652, 26.73913043, 27.39130435],\n",
       "        [28.04347826, 28.69565217, 29.34782609, 30.        ]]])"
      ]
     },
     "execution_count": 232,
     "metadata": {},
     "output_type": "execute_result"
    }
   ],
   "source": [
    "d"
   ]
  },
  {
   "cell_type": "code",
   "execution_count": 233,
   "id": "1f40a566a84245a3",
   "metadata": {
    "ExecuteTime": {
     "end_time": "2024-07-12T22:00:22.641960Z",
     "start_time": "2024-07-12T22:00:22.637964Z"
    }
   },
   "outputs": [
    {
     "data": {
      "text/plain": [
       "3"
      ]
     },
     "execution_count": 233,
     "metadata": {},
     "output_type": "execute_result"
    }
   ],
   "source": [
    "d.ndim"
   ]
  },
  {
   "cell_type": "code",
   "execution_count": 234,
   "id": "a02d582967e54571",
   "metadata": {
    "ExecuteTime": {
     "end_time": "2024-07-12T22:00:27.704171Z",
     "start_time": "2024-07-12T22:00:27.699861Z"
    }
   },
   "outputs": [
    {
     "data": {
      "text/plain": [
       "(2, 6, 4)"
      ]
     },
     "execution_count": 234,
     "metadata": {},
     "output_type": "execute_result"
    }
   ],
   "source": [
    "d.shape"
   ]
  },
  {
   "cell_type": "code",
   "execution_count": 236,
   "id": "3f1ea09a55cd4733",
   "metadata": {
    "ExecuteTime": {
     "end_time": "2024-07-12T22:04:56.843513Z",
     "start_time": "2024-07-12T22:04:56.837663Z"
    }
   },
   "outputs": [
    {
     "data": {
      "text/plain": [
       "array([[1, 2, 5],\n",
       "       [3, 4, 6]])"
      ]
     },
     "execution_count": 236,
     "metadata": {},
     "output_type": "execute_result"
    }
   ],
   "source": [
    "a = np.array([[1, 2], [3, 4]])\n",
    "b = np.array([[5, 6]])\n",
    "np.concatenate((a, b), axis=0)\n",
    "\n",
    "np.concatenate((a, b.T), axis=1)\n"
   ]
  },
  {
   "cell_type": "code",
   "execution_count": 237,
   "id": "d7a3439f5a8897b",
   "metadata": {
    "ExecuteTime": {
     "end_time": "2024-07-12T22:06:22.892254Z",
     "start_time": "2024-07-12T22:06:22.885627Z"
    }
   },
   "outputs": [
    {
     "data": {
      "text/plain": [
       "array([24, 25, 26, 27, 28, 29, 30, 31, 32, 33, 34, 35, 36, 37, 38, 39, 81,\n",
       "       71])"
      ]
     },
     "execution_count": 237,
     "metadata": {},
     "output_type": "execute_result"
    }
   ],
   "source": [
    "np.r_[24:40,81,71]"
   ]
  },
  {
   "cell_type": "code",
   "execution_count": 238,
   "id": "d8b82e2bbc7c20aa",
   "metadata": {
    "ExecuteTime": {
     "end_time": "2024-07-12T22:06:56.228370Z",
     "start_time": "2024-07-12T22:06:56.223043Z"
    }
   },
   "outputs": [
    {
     "data": {
      "text/plain": [
       "array([[ 0,  0,  0],\n",
       "       [ 1,  1,  1],\n",
       "       [ 2,  2,  2],\n",
       "       [ 3,  3,  3],\n",
       "       [ 4,  4,  4],\n",
       "       [ 5,  5,  5],\n",
       "       [ 6,  6,  6],\n",
       "       [ 7,  7,  7],\n",
       "       [ 8,  8,  8],\n",
       "       [ 9,  9,  9],\n",
       "       [10, 10, 10],\n",
       "       [11, 11, 11],\n",
       "       [12, 12, 12],\n",
       "       [13, 13, 13],\n",
       "       [14, 14, 14],\n",
       "       [15, 15, 15],\n",
       "       [16, 16, 16],\n",
       "       [17, 17, 17],\n",
       "       [18, 18, 18],\n",
       "       [19, 19, 19],\n",
       "       [20, 20, 20],\n",
       "       [21, 21, 21],\n",
       "       [22, 22, 22],\n",
       "       [23, 23, 23]])"
      ]
     },
     "execution_count": 238,
     "metadata": {},
     "output_type": "execute_result"
    }
   ],
   "source": [
    "np.c_[np.arange(24),np.arange(24),np.arange(24)]"
   ]
  },
  {
   "cell_type": "code",
   "execution_count": 239,
   "id": "d28e98d3daf00eb7",
   "metadata": {
    "ExecuteTime": {
     "end_time": "2024-07-12T22:31:51.125753Z",
     "start_time": "2024-07-12T22:31:51.122135Z"
    }
   },
   "outputs": [],
   "source": [
    "myArray = np.arange(24).reshape(6,4)"
   ]
  },
  {
   "cell_type": "code",
   "execution_count": 240,
   "id": "daaba70f8e1956e0",
   "metadata": {
    "ExecuteTime": {
     "end_time": "2024-07-12T22:31:54.144357Z",
     "start_time": "2024-07-12T22:31:54.140420Z"
    }
   },
   "outputs": [
    {
     "data": {
      "text/plain": [
       "array([[ 0,  1,  2,  3],\n",
       "       [ 4,  5,  6,  7],\n",
       "       [ 8,  9, 10, 11],\n",
       "       [12, 13, 14, 15],\n",
       "       [16, 17, 18, 19],\n",
       "       [20, 21, 22, 23]])"
      ]
     },
     "execution_count": 240,
     "metadata": {},
     "output_type": "execute_result"
    }
   ],
   "source": [
    "myArray"
   ]
  },
  {
   "cell_type": "code",
   "execution_count": 241,
   "id": "4d27d695ff9b533b",
   "metadata": {
    "ExecuteTime": {
     "end_time": "2024-07-12T22:32:10.224660Z",
     "start_time": "2024-07-12T22:32:10.219043Z"
    }
   },
   "outputs": [
    {
     "data": {
      "text/plain": [
       "[array([[0, 1, 2, 3],\n",
       "        [4, 5, 6, 7]]),\n",
       " array([[ 8,  9, 10, 11],\n",
       "        [12, 13, 14, 15]]),\n",
       " array([[16, 17, 18, 19],\n",
       "        [20, 21, 22, 23]])]"
      ]
     },
     "execution_count": 241,
     "metadata": {},
     "output_type": "execute_result"
    }
   ],
   "source": [
    "np.split(myArray,3)"
   ]
  },
  {
   "cell_type": "code",
   "execution_count": 243,
   "id": "79d9f8c9f994b575",
   "metadata": {
    "ExecuteTime": {
     "end_time": "2024-07-12T22:32:40.720457Z",
     "start_time": "2024-07-12T22:32:40.715316Z"
    }
   },
   "outputs": [
    {
     "data": {
      "text/plain": [
       "[array([[0, 1, 2, 3]]),\n",
       " array([[4, 5, 6, 7]]),\n",
       " array([[ 8,  9, 10, 11]]),\n",
       " array([[12, 13, 14, 15]]),\n",
       " array([[16, 17, 18, 19]]),\n",
       " array([[20, 21, 22, 23]])]"
      ]
     },
     "execution_count": 243,
     "metadata": {},
     "output_type": "execute_result"
    }
   ],
   "source": [
    "np.split(myArray,6)"
   ]
  },
  {
   "cell_type": "code",
   "execution_count": 249,
   "id": "5359581cd4d9a046",
   "metadata": {
    "ExecuteTime": {
     "end_time": "2024-07-12T22:34:04.408318Z",
     "start_time": "2024-07-12T22:34:04.402071Z"
    }
   },
   "outputs": [
    {
     "data": {
      "text/plain": [
       "[array([[0, 1, 2, 3],\n",
       "        [4, 5, 6, 7]]),\n",
       " array([[ 8,  9, 10, 11],\n",
       "        [12, 13, 14, 15]]),\n",
       " array([[16, 17, 18, 19],\n",
       "        [20, 21, 22, 23]])]"
      ]
     },
     "execution_count": 249,
     "metadata": {},
     "output_type": "execute_result"
    }
   ],
   "source": [
    "np.vsplit(myArray,3)"
   ]
  },
  {
   "cell_type": "code",
   "execution_count": 247,
   "id": "c3747a7ddd6e9934",
   "metadata": {
    "ExecuteTime": {
     "end_time": "2024-07-12T22:33:33.598680Z",
     "start_time": "2024-07-12T22:33:33.594359Z"
    }
   },
   "outputs": [
    {
     "data": {
      "text/plain": [
       "array([[ 0,  1,  2,  3],\n",
       "       [ 4,  5,  6,  7],\n",
       "       [ 8,  9, 10, 11],\n",
       "       [12, 13, 14, 15],\n",
       "       [16, 17, 18, 19],\n",
       "       [20, 21, 22, 23]])"
      ]
     },
     "execution_count": 247,
     "metadata": {},
     "output_type": "execute_result"
    }
   ],
   "source": [
    "myArray"
   ]
  },
  {
   "cell_type": "code",
   "execution_count": 260,
   "id": "d10746861741e57d",
   "metadata": {
    "ExecuteTime": {
     "end_time": "2024-07-12T22:37:40.581601Z",
     "start_time": "2024-07-12T22:37:40.578615Z"
    }
   },
   "outputs": [],
   "source": [
    "d = np.array([[1,2,3],[4,5,6]])"
   ]
  },
  {
   "cell_type": "code",
   "execution_count": 262,
   "id": "b64bbbbf68db221c",
   "metadata": {
    "ExecuteTime": {
     "end_time": "2024-07-12T22:38:05.117731Z",
     "start_time": "2024-07-12T22:38:05.111046Z"
    }
   },
   "outputs": [],
   "source": [
    "e = d"
   ]
  },
  {
   "cell_type": "code",
   "execution_count": 263,
   "id": "6a9369b4ca4bb468",
   "metadata": {
    "ExecuteTime": {
     "end_time": "2024-07-12T22:38:09.209342Z",
     "start_time": "2024-07-12T22:38:09.204637Z"
    }
   },
   "outputs": [
    {
     "data": {
      "text/plain": [
       "array([[1, 2, 3],\n",
       "       [4, 5, 6]])"
      ]
     },
     "execution_count": 263,
     "metadata": {},
     "output_type": "execute_result"
    }
   ],
   "source": [
    "e"
   ]
  },
  {
   "cell_type": "code",
   "execution_count": 264,
   "id": "a65ba3c72c69153c",
   "metadata": {
    "ExecuteTime": {
     "end_time": "2024-07-12T22:38:26.516029Z",
     "start_time": "2024-07-12T22:38:26.512639Z"
    }
   },
   "outputs": [],
   "source": [
    "e[0]=81"
   ]
  },
  {
   "cell_type": "code",
   "execution_count": 265,
   "id": "2d615548b4323ae8",
   "metadata": {
    "ExecuteTime": {
     "end_time": "2024-07-12T22:38:31.944598Z",
     "start_time": "2024-07-12T22:38:31.938976Z"
    }
   },
   "outputs": [
    {
     "data": {
      "text/plain": [
       "array([[81, 81, 81],\n",
       "       [ 4,  5,  6]])"
      ]
     },
     "execution_count": 265,
     "metadata": {},
     "output_type": "execute_result"
    }
   ],
   "source": [
    "e"
   ]
  },
  {
   "cell_type": "code",
   "execution_count": 266,
   "id": "2f9aca4a4bf92ed1",
   "metadata": {
    "ExecuteTime": {
     "end_time": "2024-07-12T22:38:40.559592Z",
     "start_time": "2024-07-12T22:38:40.554946Z"
    }
   },
   "outputs": [
    {
     "data": {
      "text/plain": [
       "array([[81, 81, 81],\n",
       "       [ 4,  5,  6]])"
      ]
     },
     "execution_count": 266,
     "metadata": {},
     "output_type": "execute_result"
    }
   ],
   "source": [
    "d"
   ]
  },
  {
   "cell_type": "code",
   "execution_count": 276,
   "id": "b26767c6fde7ade4",
   "metadata": {
    "ExecuteTime": {
     "end_time": "2024-07-12T22:41:11.314651Z",
     "start_time": "2024-07-12T22:41:11.309667Z"
    }
   },
   "outputs": [
    {
     "data": {
      "text/plain": [
       "(2, 3)"
      ]
     },
     "execution_count": 276,
     "metadata": {},
     "output_type": "execute_result"
    }
   ],
   "source": [
    "d.shape"
   ]
  },
  {
   "cell_type": "code",
   "execution_count": 267,
   "id": "a554469994d2991",
   "metadata": {
    "ExecuteTime": {
     "end_time": "2024-07-12T22:39:38.860469Z",
     "start_time": "2024-07-12T22:39:38.856340Z"
    }
   },
   "outputs": [],
   "source": [
    "a = np.arange(24).reshape(2,3,4)\n",
    "b = a.view()"
   ]
  },
  {
   "cell_type": "code",
   "execution_count": 268,
   "id": "be01fc76af52197",
   "metadata": {
    "ExecuteTime": {
     "end_time": "2024-07-12T22:39:40.311206Z",
     "start_time": "2024-07-12T22:39:40.306192Z"
    }
   },
   "outputs": [
    {
     "data": {
      "text/plain": [
       "array([[[ 0,  1,  2,  3],\n",
       "        [ 4,  5,  6,  7],\n",
       "        [ 8,  9, 10, 11]],\n",
       "\n",
       "       [[12, 13, 14, 15],\n",
       "        [16, 17, 18, 19],\n",
       "        [20, 21, 22, 23]]])"
      ]
     },
     "execution_count": 268,
     "metadata": {},
     "output_type": "execute_result"
    }
   ],
   "source": [
    "a"
   ]
  },
  {
   "cell_type": "code",
   "execution_count": 269,
   "id": "50c2a089b90964f0",
   "metadata": {
    "ExecuteTime": {
     "end_time": "2024-07-12T22:39:42.569372Z",
     "start_time": "2024-07-12T22:39:42.564362Z"
    }
   },
   "outputs": [
    {
     "data": {
      "text/plain": [
       "array([[[ 0,  1,  2,  3],\n",
       "        [ 4,  5,  6,  7],\n",
       "        [ 8,  9, 10, 11]],\n",
       "\n",
       "       [[12, 13, 14, 15],\n",
       "        [16, 17, 18, 19],\n",
       "        [20, 21, 22, 23]]])"
      ]
     },
     "execution_count": 269,
     "metadata": {},
     "output_type": "execute_result"
    }
   ],
   "source": [
    "b"
   ]
  },
  {
   "cell_type": "code",
   "execution_count": 273,
   "id": "1587c63271c3f352",
   "metadata": {
    "ExecuteTime": {
     "end_time": "2024-07-12T22:40:08.139439Z",
     "start_time": "2024-07-12T22:40:08.135051Z"
    }
   },
   "outputs": [],
   "source": [
    "a[0][0][0] = 123"
   ]
  },
  {
   "cell_type": "code",
   "execution_count": 274,
   "id": "64ae5ec4da66e019",
   "metadata": {
    "ExecuteTime": {
     "end_time": "2024-07-12T22:40:09.788584Z",
     "start_time": "2024-07-12T22:40:09.782411Z"
    }
   },
   "outputs": [
    {
     "data": {
      "text/plain": [
       "array([[[123,   1,   2,   3],\n",
       "        [  4,   5,   6,   7],\n",
       "        [  8,   9,  10,  11]],\n",
       "\n",
       "       [[ 12,  13,  14,  15],\n",
       "        [ 16,  17,  18,  19],\n",
       "        [ 20,  21,  22,  23]]])"
      ]
     },
     "execution_count": 274,
     "metadata": {},
     "output_type": "execute_result"
    }
   ],
   "source": [
    "a"
   ]
  },
  {
   "cell_type": "code",
   "execution_count": 275,
   "id": "3df7e046e2f8a5ff",
   "metadata": {
    "ExecuteTime": {
     "end_time": "2024-07-12T22:40:14.790314Z",
     "start_time": "2024-07-12T22:40:14.785819Z"
    }
   },
   "outputs": [
    {
     "data": {
      "text/plain": [
       "array([[[123,   1,   2,   3],\n",
       "        [  4,   5,   6,   7],\n",
       "        [  8,   9,  10,  11]],\n",
       "\n",
       "       [[ 12,  13,  14,  15],\n",
       "        [ 16,  17,  18,  19],\n",
       "        [ 20,  21,  22,  23]]])"
      ]
     },
     "execution_count": 275,
     "metadata": {},
     "output_type": "execute_result"
    }
   ],
   "source": [
    "b"
   ]
  },
  {
   "cell_type": "code",
   "execution_count": 277,
   "id": "c6e9b9378e856e1a",
   "metadata": {
    "ExecuteTime": {
     "end_time": "2024-07-12T22:43:16.122340Z",
     "start_time": "2024-07-12T22:43:16.117383Z"
    }
   },
   "outputs": [
    {
     "data": {
      "text/plain": [
       "array([[[123,   1,   2,   3],\n",
       "        [  4,   5,   6,   7],\n",
       "        [  8,   9,  10,  11]],\n",
       "\n",
       "       [[ 12,  13,  14,  15],\n",
       "        [ 16,  17,  18,  19],\n",
       "        [ 20,  21,  22,  23]]])"
      ]
     },
     "execution_count": 277,
     "metadata": {},
     "output_type": "execute_result"
    }
   ],
   "source": [
    "a"
   ]
  },
  {
   "cell_type": "code",
   "execution_count": 278,
   "id": "9f782bff0c2904b",
   "metadata": {
    "ExecuteTime": {
     "end_time": "2024-07-12T22:43:31.006682Z",
     "start_time": "2024-07-12T22:43:31.001696Z"
    }
   },
   "outputs": [
    {
     "data": {
      "text/plain": [
       "122"
      ]
     },
     "execution_count": 278,
     "metadata": {},
     "output_type": "execute_result"
    }
   ],
   "source": [
    "np.ptp(a)"
   ]
  },
  {
   "cell_type": "code",
   "execution_count": 279,
   "id": "f3bde6cef1ec6110",
   "metadata": {
    "ExecuteTime": {
     "end_time": "2024-07-12T22:46:01.108663Z",
     "start_time": "2024-07-12T22:46:01.101638Z"
    }
   },
   "outputs": [
    {
     "data": {
      "text/plain": [
       "array([0, 0, 2, 0, 0])"
      ]
     },
     "execution_count": 279,
     "metadata": {},
     "output_type": "execute_result"
    }
   ],
   "source": [
    "a = np.array([0, 1, 2, 3, 4])\n",
    "a[[1, 3, 4]] = 0\n",
    "a\n"
   ]
  },
  {
   "cell_type": "code",
   "execution_count": 280,
   "id": "9768154724fe077c",
   "metadata": {
    "ExecuteTime": {
     "end_time": "2024-07-12T22:46:41.024224Z",
     "start_time": "2024-07-12T22:46:41.018400Z"
    }
   },
   "outputs": [
    {
     "data": {
      "text/plain": [
       "array([ 5,  6,  7,  8,  9, 10, 11])"
      ]
     },
     "execution_count": 280,
     "metadata": {},
     "output_type": "execute_result"
    }
   ],
   "source": [
    "a = np.arange(12).reshape(3, 4)\n",
    "b = a > 4\n",
    "b  # `b` is a boolean with `a`'s shape\n",
    "\n",
    "a[b]  # 1d array with the selected elements\n"
   ]
  },
  {
   "cell_type": "code",
   "execution_count": 281,
   "id": "e0ee6835dd13eb3",
   "metadata": {
    "ExecuteTime": {
     "end_time": "2024-07-12T22:46:50.164055Z",
     "start_time": "2024-07-12T22:46:50.158841Z"
    }
   },
   "outputs": [
    {
     "data": {
      "text/plain": [
       "array([[False, False, False, False],\n",
       "       [False,  True,  True,  True],\n",
       "       [ True,  True,  True,  True]])"
      ]
     },
     "execution_count": 281,
     "metadata": {},
     "output_type": "execute_result"
    }
   ],
   "source": [
    "b"
   ]
  },
  {
   "cell_type": "code",
   "execution_count": 282,
   "id": "f48871d876c31883",
   "metadata": {
    "ExecuteTime": {
     "end_time": "2024-07-12T22:47:23.246955Z",
     "start_time": "2024-07-12T22:47:23.242973Z"
    }
   },
   "outputs": [],
   "source": [
    "b = a[a>4]"
   ]
  },
  {
   "cell_type": "code",
   "execution_count": 283,
   "id": "a7d1ce70cf4b5382",
   "metadata": {
    "ExecuteTime": {
     "end_time": "2024-07-12T22:47:26.034308Z",
     "start_time": "2024-07-12T22:47:26.028985Z"
    }
   },
   "outputs": [
    {
     "data": {
      "text/plain": [
       "array([ 5,  6,  7,  8,  9, 10, 11])"
      ]
     },
     "execution_count": 283,
     "metadata": {},
     "output_type": "execute_result"
    }
   ],
   "source": [
    "b"
   ]
  },
  {
   "cell_type": "code",
   "execution_count": null,
   "id": "fe42e07cf86c4c07",
   "metadata": {},
   "outputs": [],
   "source": []
  }
 ],
 "metadata": {
  "kernelspec": {
   "display_name": "Python 3 (ipykernel)",
   "language": "python",
   "name": "python3"
  },
  "language_info": {
   "codemirror_mode": {
    "name": "ipython",
    "version": 3
   },
   "file_extension": ".py",
   "mimetype": "text/x-python",
   "name": "python",
   "nbconvert_exporter": "python",
   "pygments_lexer": "ipython3",
   "version": "3.11.7"
  }
 },
 "nbformat": 4,
 "nbformat_minor": 5
}
